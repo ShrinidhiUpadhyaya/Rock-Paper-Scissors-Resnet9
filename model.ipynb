{
 "cells": [
  {
   "cell_type": "code",
   "execution_count": 1,
   "id": "82601c54",
   "metadata": {},
   "outputs": [],
   "source": [
    "import os\n",
    "import torch\n",
    "import torchvision\n",
    "import tarfile\n",
    "import torch.nn as nn\n",
    "import numpy as np\n",
    "import torch.nn.functional as F\n",
    "from torchvision.datasets.utils import download_url\n",
    "from torchvision.datasets import ImageFolder\n",
    "from torch.utils.data import DataLoader\n",
    "import torchvision.transforms as tt\n",
    "from torch.utils.data import random_split\n",
    "from torchvision.utils import make_grid\n",
    "import matplotlib\n",
    "import matplotlib.pyplot as plt\n",
    "%matplotlib inline\n",
    "\n",
    "# matplotlib.rcParams['figure.facecolor'] = '#ffffff'"
   ]
  },
  {
   "cell_type": "code",
   "execution_count": 2,
   "id": "343d54f8",
   "metadata": {},
   "outputs": [],
   "source": [
    "project_name='rock-paper-scissors'"
   ]
  },
  {
   "cell_type": "code",
   "execution_count": 3,
   "id": "b1e1da45",
   "metadata": {},
   "outputs": [
    {
     "name": "stdout",
     "output_type": "stream",
     "text": [
      "['test', 'train', 'validation']\n",
      "['paper', 'rock', 'scissors']\n"
     ]
    }
   ],
   "source": [
    "    \n",
    "# Look into the data directory\n",
    "data_dir = './datasets/complex-images'\n",
    "print(os.listdir(data_dir))\n",
    "classes = os.listdir(data_dir + \"/train\")\n",
    "print(classes)\n",
    "\n",
    "# data_dir = \"./archive\"\n",
    "# print(os.listdir(data_dir))\n",
    "# classes = os.listdir(data_dir + \"/Rock-Paper-Scissors/train\")\n",
    "# print(classes)"
   ]
  },
  {
   "cell_type": "code",
   "execution_count": null,
   "id": "e51fd184",
   "metadata": {},
   "outputs": [],
   "source": [
    "from PIL import Image\n",
    "import torchvision.transforms as transforms\n",
    "\n",
    "\n",
    "\n",
    "# load the image\n",
    "img_path = data_dir + \"/train/paper/glu_174.png\"\n",
    "img = Image.open(img_path)\n",
    "transform = transforms.Compose([\n",
    "    transforms.ToTensor()\n",
    "]) \n",
    "# transform the pIL image to tensor\n",
    "# image\n",
    "img_tr = transform(img)\n",
    "\n",
    "img_tr = transform(img)\n",
    " \n",
    "# calculate mean and std\n",
    "mean, std = img_tr.mean([1,2]), img_tr.std([1,2])\n",
    " \n",
    "# print mean and std\n",
    "print(\"mean and std before normalize:\")\n",
    "print(\"Mean of the image:\", mean)\n",
    "print(\"Std of the image:\", std)\n",
    "\n",
    "transform_norm = transforms.Compose([\n",
    "    transforms.ToTensor(),\n",
    "    transforms.Normalize(mean, std)\n",
    "])\n",
    " \n",
    "# get normalized image\n",
    "img_normalized = transform_norm(img)\n",
    "\n",
    "# Data transforms (normalization & data augmentation)\n"
   ]
  },
  {
   "cell_type": "code",
   "execution_count": 4,
   "id": "80254275",
   "metadata": {},
   "outputs": [],
   "source": [
    "#Working for common images\n",
    "# stats = ((0.4914, 0.4822, 0.4465), (0.2023, 0.1994, 0.2010))\n",
    "#Working for normal white images\n",
    "#stats = ((0.8763, 0.8430, 0.8365), (0.2030, 0.2536, 0.2634))\n",
    "\n",
    "#For complex with face images\n",
    "# stats = ((0.3754, 0.3303, 0.3217), (0.2652, 0.2442, 0.2305))\n",
    "\n",
    "stats=((0.485, 0.456, 0.406), (0.229, 0.224, 0.225))\n",
    "# stats=((-0.8244, -1.0126, -0.7527)), ((1.2136, 1.1163, 1.0315))\n",
    "\n",
    "\n",
    "train_tfms = tt.Compose([tt.Resize((32,32)), \n",
    "                         tt.RandomHorizontalFlip(), \n",
    "                         tt.ToTensor(), \n",
    "                         tt.Normalize(*stats,inplace=True)])\n",
    "valid_tfms = tt.Compose([tt.Resize((32,32)),tt.ToTensor(), tt.Normalize(*stats)])\n"
   ]
  },
  {
   "cell_type": "code",
   "execution_count": 5,
   "id": "3cddc26b",
   "metadata": {},
   "outputs": [
    {
     "name": "stdout",
     "output_type": "stream",
     "text": [
      "<class 'torchvision.datasets.folder.ImageFolder'>\n"
     ]
    }
   ],
   "source": [
    "# PyTorch datasets\n",
    "train_ds = ImageFolder(data_dir+'/train', train_tfms)\n",
    "valid_ds = ImageFolder(data_dir+'/test', valid_tfms)\n",
    "test_ds = ImageFolder(data_dir+'/validation', valid_tfms)\n",
    "\n",
    "print(type(valid_ds))"
   ]
  },
  {
   "cell_type": "code",
   "execution_count": 6,
   "id": "f9c5c64a",
   "metadata": {},
   "outputs": [],
   "source": [
    "batch_size = 128"
   ]
  },
  {
   "cell_type": "code",
   "execution_count": 7,
   "id": "50d5f143",
   "metadata": {},
   "outputs": [],
   "source": [
    "# PyTorch data loaders\n",
    "train_dl = DataLoader(train_ds, batch_size, shuffle=True, num_workers=3, pin_memory=True)\n",
    "valid_dl = DataLoader(valid_ds, batch_size*2, num_workers=3, pin_memory=True)"
   ]
  },
  {
   "cell_type": "code",
   "execution_count": null,
   "id": "8cc7ea5f",
   "metadata": {},
   "outputs": [],
   "source": [
    "def show_batch(dl):\n",
    "    for images, labels in dl:\n",
    "        fig, ax = plt.subplots(figsize=(12, 12))\n",
    "        ax.set_xticks([]); ax.set_yticks([])\n",
    "        ax.imshow(make_grid(images[:64], nrow=8).permute(1, 2, 0))\n",
    "        break\n",
    "show_batch(train_dl)"
   ]
  },
  {
   "cell_type": "code",
   "execution_count": 8,
   "id": "64e42987",
   "metadata": {},
   "outputs": [],
   "source": [
    "def get_default_device():\n",
    "    \"\"\"Pick GPU if available, else CPU\"\"\"\n",
    "    if torch.cuda.is_available():\n",
    "        return torch.device('cuda')\n",
    "    else:\n",
    "        return torch.device('cpu')\n",
    "    \n",
    "def to_device(data, device):\n",
    "    \"\"\"Move tensor(s) to chosen device\"\"\"\n",
    "    if isinstance(data, (list,tuple)):\n",
    "        return [to_device(x, device) for x in data]\n",
    "    return data.to(device, non_blocking=True)\n",
    "\n",
    "class DeviceDataLoader():\n",
    "    \"\"\"Wrap a dataloader to move data to a device\"\"\"\n",
    "    def __init__(self, dl, device):\n",
    "        self.dl = dl\n",
    "        self.device = device\n",
    "        \n",
    "    def __iter__(self):\n",
    "        \"\"\"Yield a batch of data after moving it to device\"\"\"\n",
    "        for b in self.dl: \n",
    "            yield to_device(b, self.device)\n",
    "\n",
    "    def __len__(self):\n",
    "        \"\"\"Number of batches\"\"\"\n",
    "        return len(self.dl)"
   ]
  },
  {
   "cell_type": "code",
   "execution_count": 9,
   "id": "6c6d0d55",
   "metadata": {},
   "outputs": [
    {
     "data": {
      "text/plain": [
       "device(type='cpu')"
      ]
     },
     "execution_count": 9,
     "metadata": {},
     "output_type": "execute_result"
    }
   ],
   "source": [
    "device = get_default_device()\n",
    "device"
   ]
  },
  {
   "cell_type": "code",
   "execution_count": 10,
   "id": "718d4af3",
   "metadata": {},
   "outputs": [],
   "source": [
    "train_dl = DeviceDataLoader(train_dl, device)\n",
    "valid_dl = DeviceDataLoader(valid_dl, device)"
   ]
  },
  {
   "cell_type": "code",
   "execution_count": 11,
   "id": "239e9b27",
   "metadata": {},
   "outputs": [],
   "source": [
    "def accuracy(outputs, labels):\n",
    "    _, preds = torch.max(outputs, dim=1)\n",
    "    return torch.tensor(torch.sum(preds == labels).item() / len(preds))\n",
    "\n",
    "class ImageClassificationBase(nn.Module):\n",
    "    def training_step(self, batch):\n",
    "        images, labels = batch \n",
    "        out = self(images)                  # Generate predictions\n",
    "        loss = F.cross_entropy(out, labels) # Calculate loss\n",
    "        return loss\n",
    "    \n",
    "    def validation_step(self, batch):\n",
    "        images, labels = batch \n",
    "        out = self(images)                    # Generate predictions\n",
    "        loss = F.cross_entropy(out, labels)   # Calculate loss\n",
    "        acc = accuracy(out, labels)           # Calculate accuracy\n",
    "        return {'val_loss': loss.detach(), 'val_acc': acc}\n",
    "        \n",
    "    def validation_epoch_end(self, outputs):\n",
    "        batch_losses = [x['val_loss'] for x in outputs]\n",
    "        epoch_loss = torch.stack(batch_losses).mean()   # Combine losses\n",
    "        batch_accs = [x['val_acc'] for x in outputs]\n",
    "        epoch_acc = torch.stack(batch_accs).mean()      # Combine accuracies\n",
    "        return {'val_loss': epoch_loss.item(), 'val_acc': epoch_acc.item()}\n",
    "    \n",
    "    def epoch_end(self, epoch, result):\n",
    "        print(\"Epoch [{}], last_lr: {:.5f}, train_loss: {:.4f}, val_loss: {:.4f}, val_acc: {:.4f}\".format(\n",
    "            epoch, result['lrs'][-1], result['train_loss'], result['val_loss'], result['val_acc']))"
   ]
  },
  {
   "cell_type": "code",
   "execution_count": 12,
   "id": "f6f7714b",
   "metadata": {},
   "outputs": [],
   "source": [
    "def conv_block(in_channels, out_channels, pool=False):\n",
    "    layers = [nn.Conv2d(in_channels, out_channels, kernel_size=3, padding=1), \n",
    "              nn.BatchNorm2d(out_channels), \n",
    "              nn.ReLU(inplace=True)]\n",
    "    if pool: layers.append(nn.MaxPool2d(2))\n",
    "    return nn.Sequential(*layers)\n",
    "\n",
    "class ResNet9(ImageClassificationBase):\n",
    "    def __init__(self, in_channels, num_classes):\n",
    "        super().__init__()\n",
    "        \n",
    "        self.conv1 = conv_block(in_channels, 64)\n",
    "        self.conv2 = conv_block(64, 128, pool=True)\n",
    "        self.res1 = nn.Sequential(conv_block(128, 128), conv_block(128, 128))\n",
    "        \n",
    "        self.conv3 = conv_block(128, 256, pool=True)\n",
    "        self.conv4 = conv_block(256, 512, pool=True)\n",
    "        self.res2 = nn.Sequential(conv_block(512, 512), conv_block(512, 512))\n",
    "        \n",
    "        self.classifier = nn.Sequential(nn.MaxPool2d(4), \n",
    "                                        nn.Flatten(), \n",
    "                                        nn.Dropout(0.2),\n",
    "                                        nn.Linear(512, num_classes))\n",
    "        \n",
    "    def forward(self, xb):\n",
    "        out = self.conv1(xb)\n",
    "        out = self.conv2(out)\n",
    "        out = self.res1(out)\n",
    "        out = self.conv3(out)\n",
    "        out = self.conv4(out)\n",
    "        out = self.res2(out)\n",
    "        out = self.classifier(out)\n",
    "        return out"
   ]
  },
  {
   "cell_type": "code",
   "execution_count": 13,
   "id": "7ccbf388",
   "metadata": {},
   "outputs": [],
   "source": [
    "model = to_device(ResNet9(3, 3), device)"
   ]
  },
  {
   "cell_type": "code",
   "execution_count": null,
   "id": "54b646a8",
   "metadata": {},
   "outputs": [],
   "source": [
    "from torchsummary import summary\n",
    "summary(model,(3,32,32),128)"
   ]
  },
  {
   "cell_type": "code",
   "execution_count": null,
   "id": "89cdcdc2",
   "metadata": {},
   "outputs": [],
   "source": [
    "from sklearn.model_selection import KFold\n",
    "from torch.utils.data import ConcatDataset\n",
    "\n",
    "\n",
    "k=3\n",
    "splits=KFold(n_splits=k,shuffle=True,random_state=42)\n",
    "dataset = ConcatDataset([train_ds, valid_ds])"
   ]
  },
  {
   "cell_type": "code",
   "execution_count": null,
   "id": "54ae5ea6",
   "metadata": {},
   "outputs": [],
   "source": [
    "# @torch.no_grad()\n",
    "# def evaluate(model, val_loader):\n",
    "#     model.eval()\n",
    "#     outputs = [model.validation_step(batch) for batch in val_loader]\n",
    "#     return model.validation_epoch_end(outputs)\n",
    "\n",
    "# def get_lr(optimizer):\n",
    "#     for param_group in optimizer.param_groups:\n",
    "#         return param_group['lr']\n",
    "\n",
    "# def fit_one_cycle(epochs, max_lr, model, train_loader, val_loader, \n",
    "#                   weight_decay=0, grad_clip=None, opt_func=torch.optim.SGD):\n",
    "#     torch.cuda.empty_cache()\n",
    "#     history = []\n",
    "    \n",
    "#     # Set up cutom optimizer with weight decay\n",
    "#     optimizer = opt_func(model.parameters(), max_lr, weight_decay=weight_decay)\n",
    "#     # Set up one-cycle learning rate scheduler\n",
    "#     sched = torch.optim.lr_scheduler.OneCycleLR(optimizer, max_lr, epochs=epochs, \n",
    "#                                                 steps_per_epoch=len(train_loader))\n",
    "#     dataset = ConcatDataset([train_ds, valid_ds])\n",
    "#     for fold, (train_idx,val_idx) in enumerate(splits.split(np.arange(len(dataset)))):\n",
    "#         print(\"Fold:-\", fold)\n",
    "        \n",
    "#         for epoch in range(epochs):\n",
    "#             # Training Phase \n",
    "#             model.train()\n",
    "#             train_losses = []\n",
    "#             lrs = []\n",
    "#             for batch in train_loader:\n",
    "#                 loss = model.training_step(batch)\n",
    "#                 train_losses.append(loss)\n",
    "#                 loss.backward()\n",
    "\n",
    "#                 # Gradient clipping\n",
    "#                 if grad_clip: \n",
    "#                     nn.utils.clip_grad_value_(model.parameters(), grad_clip)\n",
    "\n",
    "#                 optimizer.step()\n",
    "#                 optimizer.zero_grad()\n",
    "                \n",
    "#                 # Record & update learning rate\n",
    "#                 lrs.append(get_lr(optimizer))\n",
    "                                \n",
    "# #                 sched.step()\n",
    "                \n",
    "\n",
    "#             # Validation phase\n",
    "#             result = evaluate(model, val_loader)\n",
    "#             result['train_loss'] = torch.stack(train_losses).mean().item()\n",
    "#             result['lrs'] = lrs\n",
    "#             model.epoch_end(epoch, result)\n",
    "#             history.append(result)\n",
    "#     return history"
   ]
  },
  {
   "cell_type": "code",
   "execution_count": 14,
   "id": "4c06df0c",
   "metadata": {},
   "outputs": [],
   "source": [
    "@torch.no_grad()\n",
    "def evaluate(model, val_loader):\n",
    "    model.eval()\n",
    "    outputs = [model.validation_step(batch) for batch in val_loader]\n",
    "    return model.validation_epoch_end(outputs)\n",
    "\n",
    "def get_lr(optimizer):\n",
    "    for param_group in optimizer.param_groups:\n",
    "        return param_group['lr']\n",
    "\n",
    "def fit_one_cycle(epochs, max_lr, model, train_loader, val_loader, \n",
    "                  weight_decay=0, grad_clip=None, opt_func=torch.optim.SGD):\n",
    "    torch.cuda.empty_cache()\n",
    "    history = []\n",
    "    \n",
    "    # Set up cutom optimizer with weight decay\n",
    "    optimizer = opt_func(model.parameters(), max_lr, weight_decay=weight_decay)\n",
    "    # Set up one-cycle learning rate scheduler\n",
    "    sched = torch.optim.lr_scheduler.OneCycleLR(optimizer, max_lr, epochs=epochs, \n",
    "                                                steps_per_epoch=len(train_loader))\n",
    "    \n",
    "    for epoch in range(epochs):\n",
    "        # Training Phase \n",
    "        model.train()\n",
    "        train_losses = []\n",
    "        lrs = []\n",
    "        for batch in train_loader:\n",
    "            loss = model.training_step(batch)\n",
    "            train_losses.append(loss)\n",
    "            loss.backward()\n",
    "            \n",
    "            # Gradient clipping\n",
    "            if grad_clip: \n",
    "                nn.utils.clip_grad_value_(model.parameters(), grad_clip)\n",
    "            \n",
    "            optimizer.step()\n",
    "            optimizer.zero_grad()\n",
    "            \n",
    "            # Record & update learning rate\n",
    "            lrs.append(get_lr(optimizer))\n",
    "            sched.step()\n",
    "        \n",
    "        # Validation phase\n",
    "        result = evaluate(model, val_loader)\n",
    "        result['train_loss'] = torch.stack(train_losses).mean().item()\n",
    "        result['lrs'] = lrs\n",
    "        model.epoch_end(epoch, result)\n",
    "        history.append(result)\n",
    "    return history"
   ]
  },
  {
   "cell_type": "code",
   "execution_count": 15,
   "id": "2666f6a6",
   "metadata": {},
   "outputs": [
    {
     "data": {
      "text/plain": [
       "[{'val_loss': 1.101110577583313, 'val_acc': 0.29296875}]"
      ]
     },
     "execution_count": 15,
     "metadata": {},
     "output_type": "execute_result"
    }
   ],
   "source": [
    "history = [evaluate(model, valid_dl)]\n",
    "history"
   ]
  },
  {
   "cell_type": "code",
   "execution_count": 16,
   "id": "6d9c3cd3",
   "metadata": {},
   "outputs": [],
   "source": [
    "epochs = 8\n",
    "max_lr = 0.01\n",
    "grad_clip = 0.1\n",
    "weight_decay = 1e-4\n",
    "opt_func = torch.optim.Adam"
   ]
  },
  {
   "cell_type": "code",
   "execution_count": 17,
   "id": "528f74ff",
   "metadata": {},
   "outputs": [
    {
     "name": "stdout",
     "output_type": "stream",
     "text": [
      "Epoch [0], last_lr: 0.00372, train_loss: 1.0064, val_loss: 2.6151, val_acc: 0.3242\n",
      "Epoch [1], last_lr: 0.00932, train_loss: 0.5325, val_loss: 8.8367, val_acc: 0.5599\n",
      "Epoch [2], last_lr: 0.00972, train_loss: 0.4525, val_loss: 2.8280, val_acc: 0.5193\n",
      "Epoch [3], last_lr: 0.00812, train_loss: 0.4439, val_loss: 1.4506, val_acc: 0.5720\n",
      "Epoch [4], last_lr: 0.00556, train_loss: 0.3282, val_loss: 2.2271, val_acc: 0.5538\n",
      "Epoch [5], last_lr: 0.00283, train_loss: 0.2482, val_loss: 1.0279, val_acc: 0.6324\n",
      "Epoch [6], last_lr: 0.00077, train_loss: 0.1933, val_loss: 1.1456, val_acc: 0.6373\n",
      "Epoch [7], last_lr: 0.00000, train_loss: 0.1702, val_loss: 1.2015, val_acc: 0.6390\n",
      "Wall time: 3min 35s\n"
     ]
    }
   ],
   "source": [
    "%%time\n",
    "history += fit_one_cycle(epochs, max_lr, model, train_dl, valid_dl, \n",
    "                             grad_clip=grad_clip, \n",
    "                             weight_decay=weight_decay, \n",
    "                             opt_func=opt_func)"
   ]
  },
  {
   "cell_type": "code",
   "execution_count": null,
   "id": "7caabf4b",
   "metadata": {},
   "outputs": [],
   "source": [
    "torch.save(model, './saved_model.pth')"
   ]
  },
  {
   "cell_type": "code",
   "execution_count": null,
   "id": "40b10861",
   "metadata": {},
   "outputs": [],
   "source": [
    "model = torch.load('./saved_model.pth')"
   ]
  },
  {
   "cell_type": "code",
   "execution_count": null,
   "id": "1af94264",
   "metadata": {},
   "outputs": [],
   "source": [
    "def plot_losses(history):\n",
    "    train_losses = [x.get('train_loss') for x in history]\n",
    "    val_losses = [x['val_loss'] for x in history]\n",
    "    plt.plot(train_losses, '-bx')\n",
    "    plt.plot(val_losses, '-rx')\n",
    "    plt.xlabel('epoch')\n",
    "    plt.ylabel('loss')\n",
    "    plt.legend(['Training', 'Validation'])\n",
    "    plt.title('Loss vs. No. of epochs');"
   ]
  },
  {
   "cell_type": "code",
   "execution_count": null,
   "id": "697a952c",
   "metadata": {},
   "outputs": [],
   "source": [
    "plot_losses(history)"
   ]
  },
  {
   "cell_type": "code",
   "execution_count": null,
   "id": "4730d0c1",
   "metadata": {},
   "outputs": [],
   "source": [
    "def plot_lrs(history):\n",
    "    lrs = np.concatenate([x.get('lrs', []) for x in history])\n",
    "    plt.plot(lrs)\n",
    "    plt.xlabel('Batch no.')\n",
    "    plt.ylabel('Learning rate')\n",
    "    plt.title('Learning Rate vs. Batch no.');"
   ]
  },
  {
   "cell_type": "code",
   "execution_count": null,
   "id": "df9943c3",
   "metadata": {},
   "outputs": [],
   "source": [
    "plot_lrs(history)"
   ]
  },
  {
   "cell_type": "code",
   "execution_count": null,
   "id": "cfa47187",
   "metadata": {},
   "outputs": [],
   "source": [
    "def predict_image(img, model):\n",
    "    # Convert to a batch of 1\n",
    "    xb = to_device(img.unsqueeze(0), device)\n",
    "    # Get predictions from model\n",
    "    yb = model(xb)\n",
    "    # Pick index with highest probability\n",
    "    _, preds  = torch.max(yb, dim=1)\n",
    "    # Retrieve the class label\n",
    "    return train_ds.classes[preds[0].item()]"
   ]
  },
  {
   "cell_type": "code",
   "execution_count": null,
   "id": "f0f62149",
   "metadata": {
    "scrolled": true
   },
   "outputs": [],
   "source": [
    "img, label = valid_ds[450]\n",
    "\n",
    "mean, std = img.mean([1,2]), img.std([1,2])\n",
    "\n",
    "print(mean,std)\n",
    "plt.imshow(img.permute(1, 2, 0).clamp(0, 1))\n",
    "print('Label:', valid_ds.classes[label], ', Predicted:', predict_image(img, model))"
   ]
  },
  {
   "cell_type": "markdown",
   "id": "73f0e540",
   "metadata": {},
   "source": [
    "##### from PIL import Image\n",
    "\n",
    "# Read a PIL image\n",
    "image = Image.open('./archive2/test/paper/nasmi_166.png')\n",
    "plt.imshow(image)\n",
    "plt.show()  \n",
    "\n",
    "print(image.size)\n",
    "\n",
    "stats_test = ((0.8763, 0.8430, 0.8365), (0.2030, 0.2536, 0.2634))\n",
    "test_tfms = tt.Compose([tt.Resize((32,32)),tt.ToTensor(), tt.Normalize(*stats_test)])\n",
    "test_ds = ImageFolder('./archive2/test', test_tfms)\n",
    "test_dl = DataLoader(test_ds, batch_size*2, num_workers=3, pin_memory=True)\n"
   ]
  },
  {
   "cell_type": "code",
   "execution_count": 23,
   "id": "51ce4792",
   "metadata": {},
   "outputs": [],
   "source": [
    "from sklearn.metrics import confusion_matrix\n",
    "import seaborn as sn\n",
    "import pandas as pd\n",
    "\n",
    "y_pred = []\n",
    "y_true = []"
   ]
  },
  {
   "cell_type": "code",
   "execution_count": 24,
   "id": "01d6bfdf",
   "metadata": {},
   "outputs": [],
   "source": [
    "def predict_image_for_accuracy(img):\n",
    "    # Convert to a batch of 1\n",
    "    xb = to_device(img.unsqueeze(0), device)\n",
    "    # Get predictions from model\n",
    "    yb = model(xb)\n",
    "    # Pick index with highest probability\n",
    "    _, preds  = torch.max(yb, dim=1)\n",
    "#     print(preds[0])\n",
    "    # Retrieve the class label\n",
    "    return preds[0]"
   ]
  },
  {
   "cell_type": "code",
   "execution_count": 25,
   "id": "9fb72ed9",
   "metadata": {},
   "outputs": [
    {
     "name": "stdout",
     "output_type": "stream",
     "text": [
      "66\n"
     ]
    }
   ],
   "source": [
    "print(len(test_ds))"
   ]
  },
  {
   "cell_type": "code",
   "execution_count": 26,
   "id": "c03675ba",
   "metadata": {},
   "outputs": [
    {
     "name": "stdout",
     "output_type": "stream",
     "text": [
      "[0, 0, 0, 2, 2, 2, 2, 1, 2, 2, 1, 0, 0, 0, 0, 2, 0, 0, 0, 0, 0, 1, 0, 1, 2, 1, 1, 1, 1, 0, 0, 1, 2, 0, 0, 1, 1, 0, 0, 1, 1, 1, 1, 1, 2, 2, 2, 2, 2, 2, 2, 2, 1, 0, 2, 2, 2, 2, 2, 2, 2, 2, 2, 2, 2, 0]\n",
      "[0, 0, 0, 0, 0, 0, 0, 0, 0, 0, 0, 0, 0, 0, 0, 0, 0, 0, 0, 0, 0, 0, 1, 1, 1, 1, 1, 1, 1, 1, 1, 1, 1, 1, 1, 1, 1, 1, 1, 1, 1, 1, 1, 1, 2, 2, 2, 2, 2, 2, 2, 2, 2, 2, 2, 2, 2, 2, 2, 2, 2, 2, 2, 2, 2, 2]\n"
     ]
    },
    {
     "data": {
      "text/plain": [
       "<AxesSubplot:>"
      ]
     },
     "execution_count": 26,
     "metadata": {},
     "output_type": "execute_result"
    },
    {
     "data": {
      "image/png": "[encoded data removed]",
      "text/plain": [
       "<Figure size 864x504 with 2 Axes>"
      ]
     },
     "metadata": {
      "needs_background": "light"
     },
     "output_type": "display_data"
    }
   ],
   "source": [
    "predicted_image_list = []\n",
    "\n",
    "# image, label = valid_ds[10]\n",
    "\n",
    "# print(type(image))\n",
    "# a = predict_image_for_accuracy(image)\n",
    "# print(a)\n",
    "# print(type(a))a\n",
    "# print(type(label))\n",
    "# print(valid_ds.classes[a])\n",
    "# print(valid_ds.classes[label])\n",
    "\n",
    "for i in range(66):\n",
    "    image, label = test_ds[i]\n",
    "    \n",
    "    output = predict_image_for_accuracy(image) # Feed Network\n",
    "    y_pred.append(output.item()) # Save Prediction    \n",
    "    y_true.append(label) # Save Truth \n",
    "\n",
    "print(y_pred)\n",
    "print(y_true)\n",
    "# constant for classes\n",
    "classes = ('Rock', 'Paper', 'Scissors')\n",
    "\n",
    "# Build confusion matrix\n",
    "cf_matrix = confusion_matrix(y_true, y_pred)\n",
    "df_cm = pd.DataFrame(cf_matrix / np.sum(cf_matrix, axis=1), index = [i for i in classes],\n",
    "                     columns = [i for i in classes])\n",
    "plt.figure(figsize = (12,7))\n",
    "sn.heatmap(df_cm, annot=True)"
   ]
  },
  {
   "cell_type": "code",
   "execution_count": null,
   "id": "dc6455b1",
   "metadata": {},
   "outputs": [],
   "source": []
  },
  {
   "cell_type": "code",
   "execution_count": null,
   "id": "22ed7111",
   "metadata": {},
   "outputs": [],
   "source": [
    "def calculate_class_accuracy(outputs, targets, class_idx):\n",
    "    \"\"\"Calculates the accuracy for a specific class\n",
    "    Args:\n",
    "        outputs (torch.Tensor): The model outputs (logits) of shape (batch_size, num_classes)\n",
    "        targets (torch.Tensor): The true labels of shape (batch_size,)\n",
    "        class_idx (int): The index of the class for which accuracy is to be calculated\n",
    "    Returns:\n",
    "        float: The accuracy for the specific class\n",
    "    \"\"\"\n",
    "    class_correct = (outputs.argmax(dim=1) == targets).sum().float()\n",
    "    class_total = (targets == class_idx).sum().float()\n",
    "\n",
    "    return class_correct / class_total if class_total > 0 else 0"
   ]
  },
  {
   "cell_type": "code",
   "execution_count": null,
   "id": "148153f9",
   "metadata": {},
   "outputs": [],
   "source": [
    "# calculate_class_accuracy(,valid_dl)"
   ]
  },
  {
   "cell_type": "code",
   "execution_count": null,
   "id": "9a260455",
   "metadata": {},
   "outputs": [],
   "source": [
    "paper_images = "
   ]
  },
  {
   "cell_type": "code",
   "execution_count": null,
   "id": "f1e84ba4",
   "metadata": {},
   "outputs": [],
   "source": []
  }
 ],
 "metadata": {
  "kernelspec": {
   "display_name": "Python 3",
   "language": "python",
   "name": "python3"
  },
  "language_info": {
   "codemirror_mode": {
    "name": "ipython",
    "version": 3
   },
   "file_extension": ".py",
   "mimetype": "text/x-python",
   "name": "python",
   "nbconvert_exporter": "python",
   "pygments_lexer": "ipython3",
   "version": "3.8.8"
  }
 },
 "nbformat": 4,
 "nbformat_minor": 5
}
