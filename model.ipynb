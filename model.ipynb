{
 "cells": [
  {
   "cell_type": "code",
   "execution_count": 1,
   "id": "8f7aec70",
   "metadata": {},
   "outputs": [],
   "source": [
    "import os\n",
    "import torch\n",
    "import torchvision\n",
    "import torch.nn as nn\n",
    "import torch.nn.functional as F\n",
    "import torch.optim as optim\n",
    "import torchvision.transforms as transform\n",
    "import torchmetrics\n",
    "import random\n",
    "import matplotlib\n",
    "import matplotlib.pyplot as matplot\n",
    "\n",
    "from torchvision.datasets import ImageFolder, DatasetFolder\n",
    "from torch.utils.data import DataLoader, Subset, random_split, ConcatDataset\n",
    "from torchvision.utils import make_grid\n",
    "from torchvision.transforms import ToTensor, Normalize, Compose\n",
    "from torchmetrics import F1Score, Accuracy\n",
    "from PIL import Image\n",
    "\n",
    "from sklearn.model_selection import KFold\n",
    "\n",
    "%matplotlib inline"
   ]
  },
  {
   "cell_type": "code",
   "execution_count": 2,
   "id": "ccc45b7f",
   "metadata": {},
   "outputs": [],
   "source": [
    "from sklearn.metrics import confusion_matrix, accuracy_score\n",
    "import seaborn as sn\n",
    "import pandas as pd\n",
    "import numpy as np"
   ]
  },
  {
   "cell_type": "code",
   "execution_count": 3,
   "id": "0db4a7dd",
   "metadata": {},
   "outputs": [],
   "source": [
    "project_name='rock-paper-scissors'"
   ]
  },
  {
   "cell_type": "code",
   "execution_count": 4,
   "id": "e726e551",
   "metadata": {},
   "outputs": [
    {
     "name": "stdout",
     "output_type": "stream",
     "text": [
      "['paper', 'rock', 'scissors']\n",
      "['paper', 'rock', 'scissors']\n"
     ]
    }
   ],
   "source": [
    "# Data directory\n",
    "data_dir = './dataset'\n",
    "print(os.listdir(data_dir))\n",
    "\n",
    "# Classes\n",
    "classes = os.listdir(data_dir)\n",
    "print(classes)"
   ]
  },
  {
   "cell_type": "code",
   "execution_count": 5,
   "id": "bb730e8a",
   "metadata": {},
   "outputs": [],
   "source": [
    "stats=((0.485, 0.456, 0.406), (0.229, 0.224, 0.225))\n",
    "\n",
    "train_tranform = transform.Compose([\n",
    "                         transform.Resize((32,32)), \n",
    "                         transform.RandomHorizontalFlip(), \n",
    "                         transform.ToTensor(), \n",
    "                         transform.Normalize(*stats,inplace=True)])\n",
    "\n",
    "valid_transform = transform.Compose([transform.Resize((32,32)),transform.ToTensor(), transform.Normalize(*stats)])"
   ]
  },
  {
   "cell_type": "code",
   "execution_count": 6,
   "id": "fa4e4ff6",
   "metadata": {},
   "outputs": [],
   "source": [
    "rock_paper_scissors_data = ImageFolder(data_dir, train_tranform)"
   ]
  },
  {
   "cell_type": "code",
   "execution_count": 7,
   "id": "ee047326",
   "metadata": {},
   "outputs": [],
   "source": [
    "train_size = int(0.85 * len(rock_paper_scissors_data))\n",
    "val_size = len(rock_paper_scissors_data) - train_size\n",
    "train_dataset, val_dataset = random_split(rock_paper_scissors_data, [train_size, val_size])"
   ]
  },
  {
   "cell_type": "code",
   "execution_count": 8,
   "id": "88597fd0",
   "metadata": {},
   "outputs": [
    {
     "data": {
      "text/plain": [
       "3"
      ]
     },
     "execution_count": 8,
     "metadata": {},
     "output_type": "execute_result"
    }
   ],
   "source": [
    "batch_size = 64\n",
    "num_of_classes = len(classes)\n",
    "num_of_classes"
   ]
  },
  {
   "cell_type": "code",
   "execution_count": 9,
   "id": "f8f5c7ab",
   "metadata": {},
   "outputs": [],
   "source": [
    "custom_val_dataset = ImageFolder(\"./professor-dataset/validation\", valid_transform)\n",
    "complete_val_dataset = ConcatDataset([val_dataset,custom_val_dataset])"
   ]
  },
  {
   "cell_type": "code",
   "execution_count": null,
   "id": "b94c6017",
   "metadata": {},
   "outputs": [],
   "source": [
    "# # Just the custom validation dataloader\n",
    "# custom_validation_dataloader = DataLoader(custom_val_dataset, batch_size=batch_size, num_workers=3, pin_memory=True)"
   ]
  },
  {
   "cell_type": "code",
   "execution_count": 10,
   "id": "facf2cab",
   "metadata": {},
   "outputs": [],
   "source": [
    "test_dataset = ImageFolder(\"./professor-dataset/test\", valid_transform)"
   ]
  },
  {
   "cell_type": "code",
   "execution_count": 11,
   "id": "4df173b2",
   "metadata": {},
   "outputs": [],
   "source": [
    "train_dataloader = DataLoader(train_dataset, batch_size=batch_size, shuffle=True, num_workers=3, pin_memory=True)\n",
    "val_dataloader = DataLoader(complete_val_dataset, batch_size=batch_size, num_workers=3, pin_memory=True)\n",
    "test_dataloader = DataLoader(test_dataset, batch_size=batch_size, num_workers=3, pin_memory=True)"
   ]
  },
  {
   "cell_type": "code",
   "execution_count": null,
   "id": "39071f1e",
   "metadata": {},
   "outputs": [],
   "source": [
    "type(val_dataloader)"
   ]
  },
  {
   "cell_type": "code",
   "execution_count": null,
   "id": "08643155",
   "metadata": {},
   "outputs": [],
   "source": [
    "# Function to show images\n",
    "def show_images(dataloader):\n",
    "    for images, labels in dataloader:\n",
    "        fig, ax = matplot.subplots(figsize=(12, 12))\n",
    "        ax.set_xticks([]); ax.set_yticks([])\n",
    "        ax.imshow(make_grid(images[:64], nrow=8).permute(1, 2, 0))\n",
    "        break\n"
   ]
  },
  {
   "cell_type": "code",
   "execution_count": null,
   "id": "09ab190b",
   "metadata": {},
   "outputs": [],
   "source": [
    "show_images(val_dataloader)"
   ]
  },
  {
   "cell_type": "code",
   "execution_count": 12,
   "id": "dcc30f0f",
   "metadata": {},
   "outputs": [],
   "source": [
    "def get_default_device():\n",
    "    \"\"\"Pick GPU if available, else CPU\"\"\"\n",
    "    if torch.cuda.is_available():\n",
    "        return torch.device('cuda')\n",
    "    else:\n",
    "        return torch.device('cpu')\n",
    "    \n",
    "def to_device(data, device):\n",
    "    \"\"\"Move tensor(s) to chosen device\"\"\"\n",
    "    if isinstance(data, (list,tuple)):\n",
    "        return [to_device(x, device) for x in data]\n",
    "    return data.to(device, non_blocking=True)\n",
    "\n",
    "class DeviceDataLoader():\n",
    "    \"\"\"Wrap a dataloader to move data to a device\"\"\"\n",
    "    def __init__(self, dl, device):\n",
    "        self.dl = dl\n",
    "        self.device = device\n",
    "        \n",
    "    def __iter__(self):\n",
    "        \"\"\"Yield a batch of data after moving it to device\"\"\"\n",
    "        for b in self.dl: \n",
    "            yield to_device(b, self.device)\n",
    "\n",
    "    def __len__(self):\n",
    "        \"\"\"Number of batches\"\"\"\n",
    "        return len(self.dl)"
   ]
  },
  {
   "cell_type": "code",
   "execution_count": 13,
   "id": "79728bdc",
   "metadata": {},
   "outputs": [
    {
     "data": {
      "text/plain": [
       "device(type='cuda')"
      ]
     },
     "execution_count": 13,
     "metadata": {},
     "output_type": "execute_result"
    }
   ],
   "source": [
    "device = get_default_device()\n",
    "device"
   ]
  },
  {
   "cell_type": "code",
   "execution_count": 14,
   "id": "740b583b",
   "metadata": {},
   "outputs": [],
   "source": [
    "# Moving Dataloader on the device('Cuda' if available)\n",
    "train_dataloader = DeviceDataLoader(train_dataloader, device)\n",
    "# val_dataloader = DeviceDataLoader(val_dataloader, device)"
   ]
  },
  {
   "cell_type": "code",
   "execution_count": 15,
   "id": "836bb840",
   "metadata": {},
   "outputs": [],
   "source": [
    "def conv_block(in_channels, out_channels, pool=False):\n",
    "    layers = [nn.Conv2d(in_channels, out_channels, kernel_size=3, padding=1), \n",
    "              nn.BatchNorm2d(out_channels), \n",
    "              nn.ReLU(inplace=True)]\n",
    "    if pool: layers.append(nn.MaxPool2d(2))\n",
    "    return nn.Sequential(*layers)\n",
    "\n",
    "class ResNet9(nn.Module):\n",
    "    def __init__(self, num_classes=3):\n",
    "        super().__init__()\n",
    "        \n",
    "        self.conv1 = conv_block(3, 64)\n",
    "        self.conv2 = conv_block(64, 128, pool=True)\n",
    "        self.res1 = nn.Sequential(conv_block(128, 128), conv_block(128, 128))\n",
    "        \n",
    "        self.conv3 = conv_block(128, 256, pool=True)\n",
    "        self.conv4 = conv_block(256, 512, pool=True)\n",
    "        self.res2 = nn.Sequential(conv_block(512, 512), conv_block(512, 512))\n",
    "        \n",
    "        self.classifier = nn.Sequential(nn.MaxPool2d(4), \n",
    "                                        nn.Flatten(), \n",
    "                                        nn.Dropout(0.2),\n",
    "                                        nn.Linear(512, num_classes))\n",
    "        \n",
    "    def forward(self, xb):\n",
    "        out = self.conv1(xb)\n",
    "        out = self.conv2(out)\n",
    "        out = self.res1(out)\n",
    "        out = self.conv3(out)\n",
    "        out = self.conv4(out)\n",
    "        out = self.res2(out)\n",
    "        out = self.classifier(out)\n",
    "        return out"
   ]
  },
  {
   "cell_type": "code",
   "execution_count": null,
   "id": "a2f912bf",
   "metadata": {},
   "outputs": [],
   "source": [
    "class ResidualBlock(nn.Module):\n",
    "    def __init__(self, in_channels, out_channels, stride=1):\n",
    "        super(ResidualBlock, self).__init__()\n",
    "        self.conv1 = nn.Conv2d(in_channels, out_channels, kernel_size=3, stride=stride, padding=1, bias=False)\n",
    "        self.bn1 = nn.BatchNorm2d(out_channels)\n",
    "        self.relu = nn.ReLU(inplace=True)\n",
    "        self.conv2 = nn.Conv2d(out_channels, out_channels, kernel_size=3, stride=1, padding=1, bias=False)\n",
    "        self.bn2 = nn.BatchNorm2d(out_channels)\n",
    "        self.stride = stride\n",
    "        \n",
    "        if in_channels != out_channels or stride != 1:\n",
    "            self.downsample = nn.Sequential(\n",
    "                nn.Conv2d(in_channels, out_channels, kernel_size=1, stride=stride, bias=False),\n",
    "                nn.BatchNorm2d(out_channels)\n",
    "            )\n",
    "        else:\n",
    "            self.downsample = nn.Identity()\n",
    "            \n",
    "    def forward(self, x):\n",
    "        residual = self.downsample(x)\n",
    "        out = self.conv1(x)\n",
    "        out = self.bn1(out)\n",
    "        out = self.relu(out)\n",
    "        out = self.conv2(out)\n",
    "        out = self.bn2(out)\n",
    "        out += residual\n",
    "        out = self.relu(out)\n",
    "        return out\n",
    "        \n",
    "class ResNet9(nn.Module):\n",
    "    def __init__(self, num_classes=3):\n",
    "        super(ResNet9, self).__init__()\n",
    "        self.conv = nn.Conv2d(3, 64, kernel_size=3, stride=1, padding=1, bias=False)\n",
    "        self.bn = nn.BatchNorm2d(64)\n",
    "        self.relu = nn.ReLU(inplace=True)\n",
    "        self.layer1 = nn.Sequential(\n",
    "            ResidualBlock(64, 128, stride=2),\n",
    "            ResidualBlock(128, 128)\n",
    "        )\n",
    "        self.layer2 = nn.Sequential(\n",
    "            ResidualBlock(128, 256, stride=2),\n",
    "            ResidualBlock(256, 256)\n",
    "        )\n",
    "        self.layer3 = nn.Sequential(\n",
    "            ResidualBlock(256, 512, stride=2),\n",
    "            ResidualBlock(512, 512)\n",
    "        )\n",
    "        self.avgpool = nn.AdaptiveAvgPool2d((1,1))\n",
    "        self.fc = nn.Linear(512, num_classes)\n",
    "        \n",
    "    def forward(self, x):\n",
    "        out = self.conv(x)\n",
    "        out = self.bn(out)\n",
    "        out = self.relu(out)\n",
    "        out = self.layer1(out)\n",
    "        out = self.layer2(out)\n",
    "        out = self.layer3(out)\n",
    "        out = self.avgpool(out)\n",
    "        out = out.view(out.size(0), -1)\n",
    "        out = self.fc(out)\n",
    "        return out"
   ]
  },
  {
   "cell_type": "code",
   "execution_count": 16,
   "id": "4f5d81d4",
   "metadata": {},
   "outputs": [],
   "source": [
    "k = 3\n",
    "number_of_epochs = 25\n",
    "learning_rate = 0.001\n",
    "weight_decay = 1e-4"
   ]
  },
  {
   "cell_type": "code",
   "execution_count": 17,
   "id": "2a3304b6",
   "metadata": {},
   "outputs": [],
   "source": [
    "# F-1 Score\n",
    "def get_f1score(preds, labels):\n",
    "    f1_score = F1Score(task=\"multiclass\", num_classes=num_of_classes, average='weighted')\n",
    "    return f1_score(preds, labels)"
   ]
  },
  {
   "cell_type": "code",
   "execution_count": 18,
   "id": "80ce2dca",
   "metadata": {},
   "outputs": [],
   "source": [
    "# Accuracy\n",
    "def get_accuracy(preds, labels):\n",
    "    accuracy = Accuracy(task=\"multiclass\", num_classes=num_of_classes).to(device)\n",
    "    return accuracy(preds, labels)"
   ]
  },
  {
   "cell_type": "code",
   "execution_count": 19,
   "id": "4a37e3f7",
   "metadata": {},
   "outputs": [],
   "source": [
    "# Training function\n",
    "def train(model, train_loader, criterion, optimizer):\n",
    "    model.train()\n",
    "    running_loss = 0.0\n",
    "    for inputs, labels in train_loader:\n",
    "        inputs = inputs.to(device)\n",
    "        labels = labels.to(device)\n",
    "        optimizer.zero_grad()\n",
    "        outputs = model(inputs)\n",
    "        loss = criterion(outputs, labels)\n",
    "        loss.backward()\n",
    "        optimizer.step()\n",
    "        running_loss += loss.item() * inputs.size(0)\n",
    "    epoch_loss = running_loss / len(train_loader.dataset)\n",
    "    return epoch_loss"
   ]
  },
  {
   "cell_type": "code",
   "execution_count": 20,
   "id": "edc96273",
   "metadata": {},
   "outputs": [],
   "source": [
    "# Evaluate model\n",
    "def evaluate(model, val_loader):\n",
    "    model.eval()\n",
    "    all_labels = []\n",
    "    all_preds = []\n",
    "    with torch.no_grad():\n",
    "        for inputs, labels in val_loader:\n",
    "            inputs = inputs.to(device)\n",
    "            labels = labels.to(device)\n",
    "            outputs = model(inputs)\n",
    "            _, preds = torch.max(outputs, 1)\n",
    "            all_labels.append(labels.cpu())\n",
    "            all_preds.append(preds.cpu())\n",
    "    all_labels = torch.cat(all_labels)\n",
    "    all_preds = torch.cat(all_preds)\n",
    "    return all_preds, all_labels"
   ]
  },
  {
   "cell_type": "code",
   "execution_count": null,
   "id": "6eef20be",
   "metadata": {},
   "outputs": [],
   "source": [
    "# Without K-fold cross-validation\n",
    "    \n",
    "model = ResNet9()\n",
    "model.to(device)\n",
    "    \n",
    "# Define the loss function and optimizer\n",
    "criterion = nn.CrossEntropyLoss()\n",
    "optimizer = optim.SGD(model.parameters(), lr=learning_rate, momentum=0.9)\n",
    "    \n",
    "train_losses = []\n",
    "train_accuracies = []\n",
    "    \n",
    "val_losses = []\n",
    "val_accuracies = []\n",
    "    \n",
    "# Train and validate for this fold\n",
    "for epoch in range(number_of_epochs):\n",
    "    train_loss = train(model, train_dataloader, criterion, optimizer)\n",
    "    val_loss = train(model,val_dataloader,criterion,optimizer)\n",
    "        \n",
    "    # Loss\n",
    "    train_losses.append(train_loss)\n",
    "    val_losses.append(val_loss)\n",
    "        \n",
    "    preds, labels = evaluate(model, train_dataloader)\n",
    "    train_accuracy = get_accuracy(preds, labels)\n",
    "\n",
    "    preds, labels = evaluate(model, val_dataloader)\n",
    "    val_accuracy = get_accuracy(preds, labels)\n",
    "\n",
    "    # Accuracies\n",
    "    train_accuracies.append(train_accuracy)\n",
    "    val_accuracies.append(val_accuracy)\n",
    "        \n",
    "    print(f'Epoch {epoch + 1} - Train loss: {train_loss:.4f} - Train Accuracy: {train_accuracy:.4f} - Val loss: {val_loss:.4f} - Val accuracy: {val_accuracy:.4f}')\n",
    "    \n",
    "# Saving the Current Fold Model\n",
    "torch.save(model, f'withoutKFold.pth')"
   ]
  },
  {
   "cell_type": "code",
   "execution_count": 21,
   "id": "1926f8a8",
   "metadata": {},
   "outputs": [
    {
     "name": "stdout",
     "output_type": "stream",
     "text": [
      "Fold 1/3\n",
      "Epoch 1 - Train loss: 0.7658 - Train Accuracy: 0.7620 - Val loss: 0.5445 - Val accuracy: 0.7386\n",
      "Epoch 2 - Train loss: 0.3678 - Train Accuracy: 0.9024 - Val loss: 0.3685 - Val accuracy: 0.8821\n",
      "Epoch 3 - Train loss: 0.2416 - Train Accuracy: 0.9478 - Val loss: 0.2358 - Val accuracy: 0.9383\n",
      "Epoch 4 - Train loss: 0.1887 - Train Accuracy: 0.9353 - Val loss: 0.1856 - Val accuracy: 0.9206\n",
      "Epoch 5 - Train loss: 0.1465 - Train Accuracy: 0.9360 - Val loss: 0.1525 - Val accuracy: 0.9070\n",
      "Epoch 6 - Train loss: 0.1292 - Train Accuracy: 0.9713 - Val loss: 0.1514 - Val accuracy: 0.9455\n",
      "Epoch 7 - Train loss: 0.0963 - Train Accuracy: 0.9805 - Val loss: 0.0762 - Val accuracy: 0.9599\n",
      "Epoch 8 - Train loss: 0.0681 - Train Accuracy: 0.9911 - Val loss: 0.0603 - Val accuracy: 0.9647\n",
      "Epoch 9 - Train loss: 0.0474 - Train Accuracy: 0.9875 - Val loss: 0.0384 - Val accuracy: 0.9423\n",
      "Epoch 10 - Train loss: 0.0502 - Train Accuracy: 0.9974 - Val loss: 0.0275 - Val accuracy: 0.9695\n",
      "Epoch 11 - Train loss: 0.0276 - Train Accuracy: 0.9993 - Val loss: 0.0271 - Val accuracy: 0.9791\n",
      "Epoch 12 - Train loss: 0.0169 - Train Accuracy: 0.9972 - Val loss: 0.0325 - Val accuracy: 0.9727\n",
      "Epoch 13 - Train loss: 0.0172 - Train Accuracy: 0.9958 - Val loss: 0.0386 - Val accuracy: 0.9751\n",
      "Epoch 14 - Train loss: 0.0261 - Train Accuracy: 0.9737 - Val loss: 0.0214 - Val accuracy: 0.9471\n",
      "Epoch 15 - Train loss: 0.0204 - Train Accuracy: 0.9951 - Val loss: 0.0156 - Val accuracy: 0.9727\n",
      "Epoch 16 - Train loss: 0.0128 - Train Accuracy: 0.9941 - Val loss: 0.0093 - Val accuracy: 0.9800\n",
      "Epoch 17 - Train loss: 0.0113 - Train Accuracy: 0.9998 - Val loss: 0.0087 - Val accuracy: 0.9783\n",
      "Epoch 18 - Train loss: 0.0053 - Train Accuracy: 0.9988 - Val loss: 0.0043 - Val accuracy: 0.9864\n",
      "Epoch 19 - Train loss: 0.0051 - Train Accuracy: 1.0000 - Val loss: 0.0027 - Val accuracy: 0.9920\n",
      "Epoch 20 - Train loss: 0.0035 - Train Accuracy: 0.9995 - Val loss: 0.0031 - Val accuracy: 0.9808\n",
      "Epoch 21 - Train loss: 0.0034 - Train Accuracy: 0.9991 - Val loss: 0.0037 - Val accuracy: 0.9928\n",
      "Epoch 22 - Train loss: 0.0031 - Train Accuracy: 0.9998 - Val loss: 0.0080 - Val accuracy: 0.9671\n",
      "Epoch 23 - Train loss: 0.0026 - Train Accuracy: 1.0000 - Val loss: 0.0015 - Val accuracy: 0.9896\n",
      "Epoch 24 - Train loss: 0.0013 - Train Accuracy: 1.0000 - Val loss: 0.0011 - Val accuracy: 0.9880\n",
      "Epoch 25 - Train loss: 0.0009 - Train Accuracy: 1.0000 - Val loss: 0.0009 - Val accuracy: 0.9872\n",
      "Fold 2/3\n",
      "Epoch 1 - Train loss: 0.6475 - Train Accuracy: 0.7660 - Val loss: 0.5280 - Val accuracy: 0.7338\n",
      "Epoch 2 - Train loss: 0.3414 - Train Accuracy: 0.8711 - Val loss: 0.3648 - Val accuracy: 0.8396\n",
      "Epoch 3 - Train loss: 0.2274 - Train Accuracy: 0.8004 - Val loss: 0.2468 - Val accuracy: 0.7626\n",
      "Epoch 4 - Train loss: 0.1783 - Train Accuracy: 0.9299 - Val loss: 0.2035 - Val accuracy: 0.8982\n",
      "Epoch 5 - Train loss: 0.1414 - Train Accuracy: 0.8876 - Val loss: 0.1655 - Val accuracy: 0.8629\n",
      "Epoch 6 - Train loss: 0.1111 - Train Accuracy: 0.9805 - Val loss: 0.1060 - Val accuracy: 0.9543\n",
      "Epoch 7 - Train loss: 0.0817 - Train Accuracy: 0.9913 - Val loss: 0.0716 - Val accuracy: 0.9623\n",
      "Epoch 8 - Train loss: 0.0496 - Train Accuracy: 0.8001 - Val loss: 0.0585 - Val accuracy: 0.7498\n",
      "Epoch 9 - Train loss: 0.0510 - Train Accuracy: 0.9967 - Val loss: 0.0449 - Val accuracy: 0.9703\n",
      "Epoch 10 - Train loss: 0.0346 - Train Accuracy: 0.9932 - Val loss: 0.0257 - Val accuracy: 0.9719\n",
      "Epoch 11 - Train loss: 0.0203 - Train Accuracy: 0.9925 - Val loss: 0.0259 - Val accuracy: 0.9719\n",
      "Epoch 12 - Train loss: 0.0199 - Train Accuracy: 0.9976 - Val loss: 0.0246 - Val accuracy: 0.9719\n",
      "Epoch 13 - Train loss: 0.0190 - Train Accuracy: 0.9967 - Val loss: 0.0155 - Val accuracy: 0.9840\n",
      "Epoch 14 - Train loss: 0.0145 - Train Accuracy: 0.9988 - Val loss: 0.0081 - Val accuracy: 0.9880\n",
      "Epoch 15 - Train loss: 0.0108 - Train Accuracy: 0.9967 - Val loss: 0.0072 - Val accuracy: 0.9880\n",
      "Epoch 16 - Train loss: 0.0178 - Train Accuracy: 0.9788 - Val loss: 0.0139 - Val accuracy: 0.9719\n",
      "Epoch 17 - Train loss: 0.0084 - Train Accuracy: 0.9995 - Val loss: 0.0061 - Val accuracy: 0.9840\n",
      "Epoch 18 - Train loss: 0.0090 - Train Accuracy: 0.9998 - Val loss: 0.0051 - Val accuracy: 0.9848\n",
      "Epoch 19 - Train loss: 0.0034 - Train Accuracy: 0.9993 - Val loss: 0.0034 - Val accuracy: 0.9808\n",
      "Epoch 20 - Train loss: 0.0025 - Train Accuracy: 1.0000 - Val loss: 0.0021 - Val accuracy: 0.9888\n",
      "Epoch 21 - Train loss: 0.0016 - Train Accuracy: 1.0000 - Val loss: 0.0014 - Val accuracy: 0.9783\n",
      "Epoch 22 - Train loss: 0.0023 - Train Accuracy: 1.0000 - Val loss: 0.0016 - Val accuracy: 0.9888\n",
      "Epoch 23 - Train loss: 0.0019 - Train Accuracy: 1.0000 - Val loss: 0.0014 - Val accuracy: 0.9848\n",
      "Epoch 24 - Train loss: 0.0016 - Train Accuracy: 1.0000 - Val loss: 0.0012 - Val accuracy: 0.9880\n",
      "Epoch 25 - Train loss: 0.0012 - Train Accuracy: 1.0000 - Val loss: 0.0013 - Val accuracy: 0.9904\n",
      "Fold 3/3\n",
      "Epoch 1 - Train loss: 0.6457 - Train Accuracy: 0.8422 - Val loss: 0.5641 - Val accuracy: 0.8204\n",
      "Epoch 2 - Train loss: 0.3257 - Train Accuracy: 0.8737 - Val loss: 0.4080 - Val accuracy: 0.8380\n",
      "Epoch 3 - Train loss: 0.2578 - Train Accuracy: 0.9233 - Val loss: 0.2729 - Val accuracy: 0.8845\n",
      "Epoch 4 - Train loss: 0.1729 - Train Accuracy: 0.9346 - Val loss: 0.2215 - Val accuracy: 0.9022\n",
      "Epoch 5 - Train loss: 0.1526 - Train Accuracy: 0.9713 - Val loss: 0.1500 - Val accuracy: 0.9366\n",
      "Epoch 6 - Train loss: 0.1321 - Train Accuracy: 0.9791 - Val loss: 0.1708 - Val accuracy: 0.9455\n",
      "Epoch 7 - Train loss: 0.0949 - Train Accuracy: 0.9551 - Val loss: 0.0873 - Val accuracy: 0.9238\n",
      "Epoch 8 - Train loss: 0.0730 - Train Accuracy: 0.9894 - Val loss: 0.0745 - Val accuracy: 0.9583\n",
      "Epoch 9 - Train loss: 0.0607 - Train Accuracy: 0.9894 - Val loss: 0.0422 - Val accuracy: 0.9567\n",
      "Epoch 10 - Train loss: 0.0370 - Train Accuracy: 0.9875 - Val loss: 0.0425 - Val accuracy: 0.9687\n",
      "Epoch 11 - Train loss: 0.0300 - Train Accuracy: 0.9969 - Val loss: 0.0172 - Val accuracy: 0.9663\n",
      "Epoch 12 - Train loss: 0.0241 - Train Accuracy: 0.9981 - Val loss: 0.0122 - Val accuracy: 0.9751\n",
      "Epoch 13 - Train loss: 0.0171 - Train Accuracy: 0.9986 - Val loss: 0.0109 - Val accuracy: 0.9567\n",
      "Epoch 14 - Train loss: 0.0111 - Train Accuracy: 0.9969 - Val loss: 0.0075 - Val accuracy: 0.9743\n",
      "Epoch 15 - Train loss: 0.0081 - Train Accuracy: 0.9995 - Val loss: 0.0082 - Val accuracy: 0.9703\n",
      "Epoch 16 - Train loss: 0.0105 - Train Accuracy: 1.0000 - Val loss: 0.0033 - Val accuracy: 0.9816\n",
      "Epoch 17 - Train loss: 0.0048 - Train Accuracy: 1.0000 - Val loss: 0.0035 - Val accuracy: 0.9856\n",
      "Epoch 18 - Train loss: 0.0037 - Train Accuracy: 1.0000 - Val loss: 0.0025 - Val accuracy: 0.9864\n",
      "Epoch 19 - Train loss: 0.0029 - Train Accuracy: 1.0000 - Val loss: 0.0020 - Val accuracy: 0.9775\n",
      "Epoch 20 - Train loss: 0.0022 - Train Accuracy: 1.0000 - Val loss: 0.0020 - Val accuracy: 0.9880\n",
      "Epoch 21 - Train loss: 0.0015 - Train Accuracy: 1.0000 - Val loss: 0.0018 - Val accuracy: 0.9824\n",
      "Epoch 22 - Train loss: 0.0013 - Train Accuracy: 1.0000 - Val loss: 0.0019 - Val accuracy: 0.9767\n",
      "Epoch 23 - Train loss: 0.0012 - Train Accuracy: 1.0000 - Val loss: 0.0011 - Val accuracy: 0.9791\n",
      "Epoch 24 - Train loss: 0.0009 - Train Accuracy: 1.0000 - Val loss: 0.0011 - Val accuracy: 0.9808\n",
      "Epoch 25 - Train loss: 0.0008 - Train Accuracy: 1.0000 - Val loss: 0.0008 - Val accuracy: 0.9848\n"
     ]
    }
   ],
   "source": [
    "# K-fold cross-validation\n",
    "kf = KFold(n_splits=k, shuffle=True)\n",
    "\n",
    "# Train and validate for each fold\n",
    "for fold, (train_indices, val_indices) in enumerate(kf.split(train_dataset)):\n",
    "    print(f'Fold {fold + 1}/{k}')\n",
    "    \n",
    "    # Create subset datasets and dataloaders for this fold\n",
    "    train_subset = Subset(train_dataset, train_indices)\n",
    "    kfold_val_subset = Subset(train_dataset, val_indices)\n",
    "    train_loader = DataLoader(train_subset, batch_size=64, shuffle=True)\n",
    "    kfold_val_loader = DataLoader(kfold_val_subset, batch_size=64, shuffle=False)\n",
    "    # Model\n",
    "    model = ResNet9()\n",
    "    model.to(device)\n",
    "    \n",
    "    # Define the loss function and optimizer\n",
    "    criterion = nn.CrossEntropyLoss()\n",
    "#   optimizer = optim.Adam(model.parameters(), learning_rate)\n",
    "    optimizer = optim.SGD(model.parameters(), lr=learning_rate, momentum=0.9)\n",
    "    \n",
    "    train_losses = []\n",
    "    train_accuracies = []\n",
    "    \n",
    "    val_losses = []\n",
    "    val_accuracies = []\n",
    "    \n",
    "    kfold_val_losses = []\n",
    "    kfold_val_accuracies = []\n",
    "    \n",
    "    # Train and validate for this fold\n",
    "    for epoch in range(number_of_epochs):\n",
    "        train_loss = train(model, train_loader, criterion, optimizer)\n",
    "        kfold_val_loss = train(model,kfold_val_loader,criterion,optimizer)\n",
    "        val_loss = train(model,val_dataloader,criterion,optimizer)\n",
    "        \n",
    "        # Loss\n",
    "        train_losses.append(train_loss)\n",
    "        kfold_val_losses.append(kfold_val_loss)\n",
    "        val_losses.append(val_loss)\n",
    "        \n",
    "        preds, labels = evaluate(model, train_loader)\n",
    "        train_accuracy = get_accuracy(preds, labels)\n",
    "\n",
    "        preds, labels = evaluate(model, kfold_val_loader)\n",
    "        kfold_val_accuracy = get_accuracy(preds, labels)\n",
    "\n",
    "        preds, labels = evaluate(model, val_dataloader)\n",
    "        val_accuracy = get_accuracy(preds, labels)\n",
    "\n",
    "        # Accuracies\n",
    "        train_accuracies.append(train_accuracy)\n",
    "        kfold_val_accuracies.append(kfold_val_accuracy)\n",
    "        val_accuracies.append(val_accuracy)\n",
    "        \n",
    "        print(f'Epoch {epoch + 1} - Train loss: {train_loss:.4f} - Train Accuracy: {train_accuracy:.4f} - Val loss: {val_loss:.4f} - Val accuracy: {val_accuracy:.4f}')\n",
    "    \n",
    "    # Saving the Current Fold Model\n",
    "    torch.save(model, f'fold{fold}.pth')"
   ]
  },
  {
   "cell_type": "code",
   "execution_count": null,
   "id": "49285d79",
   "metadata": {},
   "outputs": [],
   "source": [
    "# Saving the model\n",
    "torch.save(model, './saved_model.pth')"
   ]
  },
  {
   "cell_type": "code",
   "execution_count": 22,
   "id": "71cfac3b",
   "metadata": {},
   "outputs": [],
   "source": [
    "# Function to plot the losses\n",
    "def plot_losses():\n",
    "    matplot.plot(train_losses, '-bx')\n",
    "    matplot.plot(val_losses, '-rx')\n",
    "    matplot.xlabel('epoch')\n",
    "    matplot.ylabel('loss')\n",
    "    matplot.legend(['Training', 'Validation'])\n",
    "    matplot.title('Loss vs. No. of epochs');"
   ]
  },
  {
   "cell_type": "code",
   "execution_count": 23,
   "id": "4c1a0de7",
   "metadata": {},
   "outputs": [
    {
     "data": {
      "image/png": "[encoded data removed]",
      "text/plain": [
       "<Figure size 432x288 with 1 Axes>"
      ]
     },
     "metadata": {
      "needs_background": "light"
     },
     "output_type": "display_data"
    }
   ],
   "source": [
    "plot_losses()"
   ]
  },
  {
   "cell_type": "code",
   "execution_count": 34,
   "id": "c7c9d1e5",
   "metadata": {},
   "outputs": [
    {
     "data": {
      "text/plain": [
       "ResNet9(\n",
       "  (conv1): Sequential(\n",
       "    (0): Conv2d(3, 64, kernel_size=(3, 3), stride=(1, 1), padding=(1, 1))\n",
       "    (1): BatchNorm2d(64, eps=1e-05, momentum=0.1, affine=True, track_running_stats=True)\n",
       "    (2): ReLU(inplace=True)\n",
       "  )\n",
       "  (conv2): Sequential(\n",
       "    (0): Conv2d(64, 128, kernel_size=(3, 3), stride=(1, 1), padding=(1, 1))\n",
       "    (1): BatchNorm2d(128, eps=1e-05, momentum=0.1, affine=True, track_running_stats=True)\n",
       "    (2): ReLU(inplace=True)\n",
       "    (3): MaxPool2d(kernel_size=2, stride=2, padding=0, dilation=1, ceil_mode=False)\n",
       "  )\n",
       "  (res1): Sequential(\n",
       "    (0): Sequential(\n",
       "      (0): Conv2d(128, 128, kernel_size=(3, 3), stride=(1, 1), padding=(1, 1))\n",
       "      (1): BatchNorm2d(128, eps=1e-05, momentum=0.1, affine=True, track_running_stats=True)\n",
       "      (2): ReLU(inplace=True)\n",
       "    )\n",
       "    (1): Sequential(\n",
       "      (0): Conv2d(128, 128, kernel_size=(3, 3), stride=(1, 1), padding=(1, 1))\n",
       "      (1): BatchNorm2d(128, eps=1e-05, momentum=0.1, affine=True, track_running_stats=True)\n",
       "      (2): ReLU(inplace=True)\n",
       "    )\n",
       "  )\n",
       "  (conv3): Sequential(\n",
       "    (0): Conv2d(128, 256, kernel_size=(3, 3), stride=(1, 1), padding=(1, 1))\n",
       "    (1): BatchNorm2d(256, eps=1e-05, momentum=0.1, affine=True, track_running_stats=True)\n",
       "    (2): ReLU(inplace=True)\n",
       "    (3): MaxPool2d(kernel_size=2, stride=2, padding=0, dilation=1, ceil_mode=False)\n",
       "  )\n",
       "  (conv4): Sequential(\n",
       "    (0): Conv2d(256, 512, kernel_size=(3, 3), stride=(1, 1), padding=(1, 1))\n",
       "    (1): BatchNorm2d(512, eps=1e-05, momentum=0.1, affine=True, track_running_stats=True)\n",
       "    (2): ReLU(inplace=True)\n",
       "    (3): MaxPool2d(kernel_size=2, stride=2, padding=0, dilation=1, ceil_mode=False)\n",
       "  )\n",
       "  (res2): Sequential(\n",
       "    (0): Sequential(\n",
       "      (0): Conv2d(512, 512, kernel_size=(3, 3), stride=(1, 1), padding=(1, 1))\n",
       "      (1): BatchNorm2d(512, eps=1e-05, momentum=0.1, affine=True, track_running_stats=True)\n",
       "      (2): ReLU(inplace=True)\n",
       "    )\n",
       "    (1): Sequential(\n",
       "      (0): Conv2d(512, 512, kernel_size=(3, 3), stride=(1, 1), padding=(1, 1))\n",
       "      (1): BatchNorm2d(512, eps=1e-05, momentum=0.1, affine=True, track_running_stats=True)\n",
       "      (2): ReLU(inplace=True)\n",
       "    )\n",
       "  )\n",
       "  (classifier): Sequential(\n",
       "    (0): MaxPool2d(kernel_size=4, stride=4, padding=0, dilation=1, ceil_mode=False)\n",
       "    (1): Flatten(start_dim=1, end_dim=-1)\n",
       "    (2): Dropout(p=0.2, inplace=False)\n",
       "    (3): Linear(in_features=512, out_features=3, bias=True)\n",
       "  )\n",
       ")"
      ]
     },
     "execution_count": 34,
     "metadata": {},
     "output_type": "execute_result"
    }
   ],
   "source": [
    "# Testing the model\n",
    "test_model = ResNet9()\n",
    "PATH = './fold2.pth'\n",
    "test_model = torch.load(PATH)\n",
    "test_model.to(device)"
   ]
  },
  {
   "cell_type": "code",
   "execution_count": 35,
   "id": "d96724dc",
   "metadata": {
    "scrolled": true
   },
   "outputs": [
    {
     "data": {
      "text/plain": [
       "tensor(0.6139, device='cuda:0')"
      ]
     },
     "execution_count": 35,
     "metadata": {},
     "output_type": "execute_result"
    }
   ],
   "source": [
    "# Evaluating Test Data\n",
    "preds, labels = evaluate(test_model, test_dataloader)\n",
    "\n",
    "# Accuracy\n",
    "accuracy = get_accuracy(preds, labels)\n",
    "accuracy"
   ]
  },
  {
   "cell_type": "code",
   "execution_count": null,
   "id": "8482ef9d",
   "metadata": {},
   "outputs": [],
   "source": [
    "# F-1 SCORE\n",
    "f1_score = get_f1score(preds, labels)\n",
    "f1_score"
   ]
  },
  {
   "cell_type": "code",
   "execution_count": null,
   "id": "513c1453",
   "metadata": {
    "scrolled": true
   },
   "outputs": [],
   "source": [
    "# Confusion Matrix\n",
    "\n",
    "confusion_matrix = np.zeros((num_of_classes, num_of_classes))\n",
    "with torch.no_grad():\n",
    "    for i, (inputs, labels) in enumerate(test_dataloader):\n",
    "        inputs = inputs.to(device)\n",
    "        labels = labels.to(device)\n",
    "        outputs = test_model(inputs)\n",
    "        _, preds = torch.max(outputs, 1)\n",
    "        for t, p in zip(labels.view(-1), preds.view(-1)):\n",
    "                confusion_matrix[t.long(), p.long()] += 1\n",
    "\n",
    "matplot.figure(figsize=(12,7))\n",
    "\n",
    "df_cm = pd.DataFrame((confusion_matrix/(np.sum(confusion_matrix, axis=1))), index=classes, columns=classes)\n",
    "heatmap = sn.heatmap(df_cm, annot=True)"
   ]
  },
  {
   "cell_type": "code",
   "execution_count": null,
   "id": "29e0673c",
   "metadata": {},
   "outputs": [],
   "source": []
  }
 ],
 "metadata": {
  "kernelspec": {
   "display_name": "Python 3 (ipykernel)",
   "language": "python",
   "name": "python3"
  },
  "language_info": {
   "codemirror_mode": {
    "name": "ipython",
    "version": 3
   },
   "file_extension": ".py",
   "mimetype": "text/x-python",
   "name": "python",
   "nbconvert_exporter": "python",
   "pygments_lexer": "ipython3",
   "version": "3.8.8"
  }
 },
 "nbformat": 4,
 "nbformat_minor": 5
}
