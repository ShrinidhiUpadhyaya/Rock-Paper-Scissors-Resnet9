{
 "cells": [
  {
   "cell_type": "code",
   "execution_count": 1,
   "id": "8f7aec70",
   "metadata": {},
   "outputs": [],
   "source": [
    "import os\n",
    "import torch\n",
    "import torchvision\n",
    "import torch.nn as nn\n",
    "import torch.nn.functional as F\n",
    "import torch.optim as optim\n",
    "import torchvision.transforms as transform\n",
    "import torchmetrics\n",
    "import random\n",
    "import matplotlib\n",
    "import matplotlib.pyplot as matplot\n",
    "\n",
    "from torchvision.datasets import ImageFolder, DatasetFolder\n",
    "from torch.utils.data import DataLoader, Subset, random_split, ConcatDataset\n",
    "from torchvision.utils import make_grid\n",
    "from torchvision.transforms import ToTensor, Normalize, Compose\n",
    "from torchmetrics import F1Score, Accuracy\n",
    "from PIL import Image\n",
    "\n",
    "from sklearn.model_selection import KFold\n",
    "\n",
    "%matplotlib inline"
   ]
  },
  {
   "cell_type": "code",
   "execution_count": 2,
   "id": "ccc45b7f",
   "metadata": {},
   "outputs": [],
   "source": [
    "from sklearn.metrics import confusion_matrix, accuracy_score\n",
    "import seaborn as sn\n",
    "import pandas as pd\n",
    "import numpy as np"
   ]
  },
  {
   "cell_type": "code",
   "execution_count": 3,
   "id": "0db4a7dd",
   "metadata": {},
   "outputs": [],
   "source": [
    "project_name='rock-paper-scissors'"
   ]
  },
  {
   "cell_type": "code",
   "execution_count": 4,
   "id": "e726e551",
   "metadata": {},
   "outputs": [
    {
     "name": "stdout",
     "output_type": "stream",
     "text": [
      "['paper', 'rock', 'scissors']\n",
      "['paper', 'rock', 'scissors']\n"
     ]
    }
   ],
   "source": [
    "# Data directory\n",
    "data_dir = './dataset'\n",
    "print(os.listdir(data_dir))\n",
    "\n",
    "# Classes\n",
    "classes = os.listdir(data_dir)\n",
    "print(classes)"
   ]
  },
  {
   "cell_type": "code",
   "execution_count": 5,
   "id": "bb730e8a",
   "metadata": {},
   "outputs": [],
   "source": [
    "stats=((0.485, 0.456, 0.406), (0.229, 0.224, 0.225))\n",
    "\n",
    "train_tranform = transform.Compose([\n",
    "                         transform.Resize((32,32)), \n",
    "                         transform.RandomHorizontalFlip(), \n",
    "                         transform.ToTensor(), \n",
    "                         transform.Normalize(*stats,inplace=True)])\n",
    "\n",
    "valid_transform = transform.Compose([transform.Resize((32,32)),transform.ToTensor(), transform.Normalize(*stats)])"
   ]
  },
  {
   "cell_type": "code",
   "execution_count": 6,
   "id": "fa4e4ff6",
   "metadata": {},
   "outputs": [],
   "source": [
    "rock_paper_scissors_data = ImageFolder(data_dir, train_tranform)"
   ]
  },
  {
   "cell_type": "code",
   "execution_count": 7,
   "id": "ee047326",
   "metadata": {},
   "outputs": [],
   "source": [
    "train_size = int(0.85 * len(rock_paper_scissors_data))\n",
    "val_size = len(rock_paper_scissors_data) - train_size\n",
    "train_dataset, val_dataset = random_split(rock_paper_scissors_data, [train_size, val_size])"
   ]
  },
  {
   "cell_type": "code",
   "execution_count": 8,
   "id": "88597fd0",
   "metadata": {},
   "outputs": [
    {
     "data": {
      "text/plain": [
       "3"
      ]
     },
     "execution_count": 8,
     "metadata": {},
     "output_type": "execute_result"
    }
   ],
   "source": [
    "batch_size = 64\n",
    "num_of_classes = len(classes)\n",
    "num_of_classes"
   ]
  },
  {
   "cell_type": "code",
   "execution_count": 9,
   "id": "f8f5c7ab",
   "metadata": {},
   "outputs": [],
   "source": [
    "custom_val_dataset = ImageFolder(\"./professor-dataset/validation\", valid_transform)\n",
    "complete_val_dataset = ConcatDataset([val_dataset,custom_val_dataset])"
   ]
  },
  {
   "cell_type": "code",
   "execution_count": null,
   "id": "b94c6017",
   "metadata": {},
   "outputs": [],
   "source": [
    "# # Just the custom validation dataloader\n",
    "# custom_validation_dataloader = DataLoader(custom_val_dataset, batch_size=batch_size, num_workers=3, pin_memory=True)"
   ]
  },
  {
   "cell_type": "code",
   "execution_count": 10,
   "id": "facf2cab",
   "metadata": {},
   "outputs": [],
   "source": [
    "test_dataset = ImageFolder(\"./professor-dataset/test\", valid_transform)"
   ]
  },
  {
   "cell_type": "code",
   "execution_count": 11,
   "id": "4df173b2",
   "metadata": {},
   "outputs": [],
   "source": [
    "train_dataloader = DataLoader(train_dataset, batch_size=batch_size, shuffle=True, num_workers=3, pin_memory=True)\n",
    "val_dataloader = DataLoader(complete_val_dataset, batch_size=batch_size, num_workers=3, pin_memory=True)\n",
    "test_dataloader = DataLoader(test_dataset, batch_size=batch_size, num_workers=3, pin_memory=True)"
   ]
  },
  {
   "cell_type": "code",
   "execution_count": null,
   "id": "39071f1e",
   "metadata": {},
   "outputs": [],
   "source": [
    "type(val_dataloader)"
   ]
  },
  {
   "cell_type": "code",
   "execution_count": null,
   "id": "08643155",
   "metadata": {},
   "outputs": [],
   "source": [
    "# Function to show images\n",
    "def show_images(dataloader):\n",
    "    for images, labels in dataloader:\n",
    "        fig, ax = matplot.subplots(figsize=(12, 12))\n",
    "        ax.set_xticks([]); ax.set_yticks([])\n",
    "        ax.imshow(make_grid(images[:64], nrow=8).permute(1, 2, 0))\n",
    "        break\n"
   ]
  },
  {
   "cell_type": "code",
   "execution_count": null,
   "id": "09ab190b",
   "metadata": {},
   "outputs": [],
   "source": [
    "show_images(val_dataloader)"
   ]
  },
  {
   "cell_type": "code",
   "execution_count": 12,
   "id": "dcc30f0f",
   "metadata": {},
   "outputs": [],
   "source": [
    "def get_default_device():\n",
    "    \"\"\"Pick GPU if available, else CPU\"\"\"\n",
    "    if torch.cuda.is_available():\n",
    "        return torch.device('cuda')\n",
    "    else:\n",
    "        return torch.device('cpu')\n",
    "    \n",
    "def to_device(data, device):\n",
    "    \"\"\"Move tensor(s) to chosen device\"\"\"\n",
    "    if isinstance(data, (list,tuple)):\n",
    "        return [to_device(x, device) for x in data]\n",
    "    return data.to(device, non_blocking=True)\n",
    "\n",
    "class DeviceDataLoader():\n",
    "    \"\"\"Wrap a dataloader to move data to a device\"\"\"\n",
    "    def __init__(self, dl, device):\n",
    "        self.dl = dl\n",
    "        self.device = device\n",
    "        \n",
    "    def __iter__(self):\n",
    "        \"\"\"Yield a batch of data after moving it to device\"\"\"\n",
    "        for b in self.dl: \n",
    "            yield to_device(b, self.device)\n",
    "\n",
    "    def __len__(self):\n",
    "        \"\"\"Number of batches\"\"\"\n",
    "        return len(self.dl)"
   ]
  },
  {
   "cell_type": "code",
   "execution_count": 13,
   "id": "79728bdc",
   "metadata": {},
   "outputs": [
    {
     "data": {
      "text/plain": [
       "device(type='cuda')"
      ]
     },
     "execution_count": 13,
     "metadata": {},
     "output_type": "execute_result"
    }
   ],
   "source": [
    "device = get_default_device()\n",
    "device"
   ]
  },
  {
   "cell_type": "code",
   "execution_count": 14,
   "id": "740b583b",
   "metadata": {},
   "outputs": [],
   "source": [
    "# Moving Dataloader on the device('Cuda' if available)\n",
    "train_dataloader = DeviceDataLoader(train_dataloader, device)\n",
    "# val_dataloader = DeviceDataLoader(val_dataloader, device)"
   ]
  },
  {
   "cell_type": "code",
   "execution_count": null,
   "id": "836bb840",
   "metadata": {},
   "outputs": [],
   "source": [
    "def conv_block(in_channels, out_channels, pool=False):\n",
    "    layers = [nn.Conv2d(in_channels, out_channels, kernel_size=3, padding=1), \n",
    "              nn.BatchNorm2d(out_channels), \n",
    "              nn.ReLU(inplace=True)]\n",
    "    if pool: layers.append(nn.MaxPool2d(2))\n",
    "    return nn.Sequential(*layers)\n",
    "\n",
    "class ResNet9(nn.Module):\n",
    "    def __init__(self, num_classes=3):\n",
    "        super().__init__()\n",
    "        \n",
    "        self.conv1 = conv_block(3, 64)\n",
    "        self.conv2 = conv_block(64, 128, pool=True)\n",
    "        self.res1 = nn.Sequential(conv_block(128, 128), conv_block(128, 128))\n",
    "        \n",
    "        self.conv3 = conv_block(128, 256, pool=True)\n",
    "        self.conv4 = conv_block(256, 512, pool=True)\n",
    "        self.res2 = nn.Sequential(conv_block(512, 512), conv_block(512, 512))\n",
    "        \n",
    "        self.classifier = nn.Sequential(nn.MaxPool2d(4), \n",
    "                                        nn.Flatten(), \n",
    "                                        nn.Dropout(0.2),\n",
    "                                        nn.Linear(512, num_classes))\n",
    "        \n",
    "    def forward(self, xb):\n",
    "        out = self.conv1(xb)\n",
    "        out = self.conv2(out)\n",
    "        out = self.res1(out)\n",
    "        out = self.conv3(out)\n",
    "        out = self.conv4(out)\n",
    "        out = self.res2(out)\n",
    "        out = self.classifier(out)\n",
    "        return out"
   ]
  },
  {
   "cell_type": "code",
   "execution_count": 16,
   "id": "4f5d81d4",
   "metadata": {},
   "outputs": [],
   "source": [
    "k = 3\n",
    "number_of_epochs = 25\n",
    "learning_rate = 0.001\n",
    "weight_decay = 1e-4"
   ]
  },
  {
   "cell_type": "code",
   "execution_count": 17,
   "id": "2a3304b6",
   "metadata": {},
   "outputs": [],
   "source": [
    "# F-1 Score\n",
    "def get_f1score(preds, labels):\n",
    "    f1_score = F1Score(task=\"multiclass\", num_classes=num_of_classes, average='weighted')\n",
    "    return f1_score(preds, labels)"
   ]
  },
  {
   "cell_type": "code",
   "execution_count": 18,
   "id": "80ce2dca",
   "metadata": {},
   "outputs": [],
   "source": [
    "# Accuracy\n",
    "def get_accuracy(preds, labels):\n",
    "    accuracy = Accuracy(task=\"multiclass\", num_classes=num_of_classes).to(device)\n",
    "    return accuracy(preds, labels)"
   ]
  },
  {
   "cell_type": "code",
   "execution_count": 19,
   "id": "4a37e3f7",
   "metadata": {},
   "outputs": [],
   "source": [
    "# Training function\n",
    "def train(model, train_loader, criterion, optimizer):\n",
    "    model.train()\n",
    "    running_loss = 0.0\n",
    "    for inputs, labels in train_loader:\n",
    "        inputs = inputs.to(device)\n",
    "        labels = labels.to(device)\n",
    "        optimizer.zero_grad()\n",
    "        outputs = model(inputs)\n",
    "        loss = criterion(outputs, labels)\n",
    "        loss.backward()\n",
    "        optimizer.step()\n",
    "        running_loss += loss.item() * inputs.size(0)\n",
    "    epoch_loss = running_loss / len(train_loader.dataset)\n",
    "    return epoch_loss"
   ]
  },
  {
   "cell_type": "code",
   "execution_count": 20,
   "id": "edc96273",
   "metadata": {},
   "outputs": [],
   "source": [
    "# Evaluate model\n",
    "def evaluate(model, val_loader):\n",
    "    model.eval()\n",
    "    all_labels = []\n",
    "    all_preds = []\n",
    "    with torch.no_grad():\n",
    "        for inputs, labels in val_loader:\n",
    "            inputs = inputs.to(device)\n",
    "            labels = labels.to(device)\n",
    "            outputs = model(inputs)\n",
    "            _, preds = torch.max(outputs, 1)\n",
    "            all_labels.append(labels.cpu())\n",
    "            all_preds.append(preds.cpu())\n",
    "    all_labels = torch.cat(all_labels)\n",
    "    all_preds = torch.cat(all_preds)\n",
    "    return all_preds, all_labels"
   ]
  },
  {
   "cell_type": "code",
   "execution_count": null,
   "id": "64ed877d",
   "metadata": {},
   "outputs": [],
   "source": [
    "# Without K-fold cross-validation\n",
    "    \n",
    "model = ResNet9()\n",
    "model.to(device)\n",
    "    \n",
    "# Define the loss function and optimizer\n",
    "criterion = nn.CrossEntropyLoss()\n",
    "optimizer = optim.SGD(model.parameters(), lr=learning_rate, momentum=0.9)\n",
    "    \n",
    "train_losses = []\n",
    "train_accuracies = []\n",
    "    \n",
    "val_losses = []\n",
    "val_accuracies = []\n",
    "    \n",
    "# Train and validate for this fold\n",
    "for epoch in range(number_of_epochs):\n",
    "    train_loss = train(model, train_dataloader, criterion, optimizer)\n",
    "    val_loss = train(model,val_dataloader,criterion,optimizer)\n",
    "        \n",
    "    # Loss\n",
    "    train_losses.append(train_loss)\n",
    "    val_losses.append(val_loss)\n",
    "        \n",
    "    preds, labels = evaluate(model, train_dataloader)\n",
    "    train_accuracy = get_accuracy(preds, labels)\n",
    "\n",
    "    preds, labels = evaluate(model, val_dataloader)\n",
    "    val_accuracy = get_accuracy(preds, labels)\n",
    "\n",
    "    # Accuracies\n",
    "    train_accuracies.append(train_accuracy)\n",
    "    val_accuracies.append(val_accuracy)\n",
    "        \n",
    "    print(f'Epoch {epoch + 1} - Train loss: {train_loss:.4f} - Train Accuracy: {train_accuracy:.4f} - Val loss: {val_loss:.4f} - Val accuracy: {val_accuracy:.4f}')\n",
    "    \n",
    "# Saving the Current Fold Model\n",
    "torch.save(model, f'withoutKFold.pth')"
   ]
  },
  {
   "cell_type": "code",
   "execution_count": 21,
   "id": "1926f8a8",
   "metadata": {},
   "outputs": [
    {
     "name": "stdout",
     "output_type": "stream",
     "text": [
      "Fold 1/3\n",
      "Epoch 1 - Train loss: 0.7844 - Train Accuracy: 0.8184 - Val loss: 0.5750 - Val accuracy: 0.7939\n",
      "Epoch 2 - Train loss: 0.3553 - Train Accuracy: 0.8798 - Val loss: 0.3655 - Val accuracy: 0.8500\n",
      "Epoch 3 - Train loss: 0.2366 - Train Accuracy: 0.8970 - Val loss: 0.2342 - Val accuracy: 0.8853\n",
      "Epoch 4 - Train loss: 0.2110 - Train Accuracy: 0.9560 - Val loss: 0.1926 - Val accuracy: 0.9190\n",
      "Epoch 5 - Train loss: 0.1303 - Train Accuracy: 0.9200 - Val loss: 0.1561 - Val accuracy: 0.8893\n",
      "Epoch 6 - Train loss: 0.1051 - Train Accuracy: 0.9802 - Val loss: 0.1327 - Val accuracy: 0.9455\n",
      "Epoch 7 - Train loss: 0.0842 - Train Accuracy: 0.9287 - Val loss: 0.1170 - Val accuracy: 0.8893\n",
      "Epoch 8 - Train loss: 0.0578 - Train Accuracy: 0.9908 - Val loss: 0.1004 - Val accuracy: 0.9599\n",
      "Epoch 9 - Train loss: 0.0458 - Train Accuracy: 0.9929 - Val loss: 0.0824 - Val accuracy: 0.9631\n",
      "Epoch 10 - Train loss: 0.0333 - Train Accuracy: 0.9929 - Val loss: 0.0814 - Val accuracy: 0.9695\n",
      "Epoch 11 - Train loss: 0.0266 - Train Accuracy: 0.9974 - Val loss: 0.0696 - Val accuracy: 0.9663\n",
      "Epoch 12 - Train loss: 0.0235 - Train Accuracy: 0.9932 - Val loss: 0.0486 - Val accuracy: 0.9671\n",
      "Epoch 13 - Train loss: 0.0195 - Train Accuracy: 0.9988 - Val loss: 0.0317 - Val accuracy: 0.9800\n",
      "Epoch 14 - Train loss: 0.0134 - Train Accuracy: 1.0000 - Val loss: 0.0217 - Val accuracy: 0.9743\n",
      "Epoch 15 - Train loss: 0.0070 - Train Accuracy: 1.0000 - Val loss: 0.0250 - Val accuracy: 0.9808\n",
      "Epoch 16 - Train loss: 0.0084 - Train Accuracy: 1.0000 - Val loss: 0.0206 - Val accuracy: 0.9711\n",
      "Epoch 17 - Train loss: 0.0054 - Train Accuracy: 1.0000 - Val loss: 0.0132 - Val accuracy: 0.9775\n",
      "Epoch 18 - Train loss: 0.0039 - Train Accuracy: 1.0000 - Val loss: 0.0068 - Val accuracy: 0.9759\n",
      "Epoch 19 - Train loss: 0.0017 - Train Accuracy: 1.0000 - Val loss: 0.0038 - Val accuracy: 0.9824\n",
      "Epoch 20 - Train loss: 0.0014 - Train Accuracy: 1.0000 - Val loss: 0.0021 - Val accuracy: 0.9800\n",
      "Epoch 21 - Train loss: 0.0008 - Train Accuracy: 1.0000 - Val loss: 0.0017 - Val accuracy: 0.9783\n",
      "Epoch 22 - Train loss: 0.0010 - Train Accuracy: 1.0000 - Val loss: 0.0015 - Val accuracy: 0.9816\n",
      "Epoch 23 - Train loss: 0.0005 - Train Accuracy: 1.0000 - Val loss: 0.0012 - Val accuracy: 0.9808\n",
      "Epoch 24 - Train loss: 0.0005 - Train Accuracy: 1.0000 - Val loss: 0.0011 - Val accuracy: 0.9808\n",
      "Epoch 25 - Train loss: 0.0004 - Train Accuracy: 1.0000 - Val loss: 0.0010 - Val accuracy: 0.9816\n",
      "Fold 2/3\n",
      "Epoch 1 - Train loss: 0.7997 - Train Accuracy: 0.7764 - Val loss: 0.5668 - Val accuracy: 0.7723\n",
      "Epoch 2 - Train loss: 0.3283 - Train Accuracy: 0.8335 - Val loss: 0.3851 - Val accuracy: 0.8196\n",
      "Epoch 3 - Train loss: 0.2227 - Train Accuracy: 0.8751 - Val loss: 0.2424 - Val accuracy: 0.8549\n",
      "Epoch 4 - Train loss: 0.1593 - Train Accuracy: 0.8836 - Val loss: 0.1798 - Val accuracy: 0.8420\n",
      "Epoch 5 - Train loss: 0.1351 - Train Accuracy: 0.9802 - Val loss: 0.1667 - Val accuracy: 0.9503\n",
      "Epoch 6 - Train loss: 0.0631 - Train Accuracy: 0.9824 - Val loss: 0.1396 - Val accuracy: 0.9543\n",
      "Epoch 7 - Train loss: 0.0845 - Train Accuracy: 0.9845 - Val loss: 0.1534 - Val accuracy: 0.9543\n",
      "Epoch 8 - Train loss: 0.0563 - Train Accuracy: 0.9812 - Val loss: 0.1207 - Val accuracy: 0.9455\n",
      "Epoch 9 - Train loss: 0.0454 - Train Accuracy: 0.9958 - Val loss: 0.0875 - Val accuracy: 0.9695\n",
      "Epoch 10 - Train loss: 0.0304 - Train Accuracy: 0.9976 - Val loss: 0.0729 - Val accuracy: 0.9751\n",
      "Epoch 11 - Train loss: 0.0221 - Train Accuracy: 0.9941 - Val loss: 0.0681 - Val accuracy: 0.9719\n",
      "Epoch 12 - Train loss: 0.0215 - Train Accuracy: 0.9974 - Val loss: 0.0394 - Val accuracy: 0.9711\n",
      "Epoch 13 - Train loss: 0.0146 - Train Accuracy: 0.9991 - Val loss: 0.0399 - Val accuracy: 0.9679\n",
      "Epoch 14 - Train loss: 0.0133 - Train Accuracy: 0.9995 - Val loss: 0.0316 - Val accuracy: 0.9647\n",
      "Epoch 15 - Train loss: 0.0128 - Train Accuracy: 0.9998 - Val loss: 0.0193 - Val accuracy: 0.9783\n",
      "Epoch 16 - Train loss: 0.0070 - Train Accuracy: 1.0000 - Val loss: 0.0100 - Val accuracy: 0.9816\n",
      "Epoch 17 - Train loss: 0.0028 - Train Accuracy: 1.0000 - Val loss: 0.0075 - Val accuracy: 0.9775\n",
      "Epoch 18 - Train loss: 0.0020 - Train Accuracy: 1.0000 - Val loss: 0.0048 - Val accuracy: 0.9808\n",
      "Epoch 19 - Train loss: 0.0016 - Train Accuracy: 1.0000 - Val loss: 0.0036 - Val accuracy: 0.9824\n",
      "Epoch 20 - Train loss: 0.0012 - Train Accuracy: 1.0000 - Val loss: 0.0020 - Val accuracy: 0.9800\n",
      "Epoch 21 - Train loss: 0.0010 - Train Accuracy: 1.0000 - Val loss: 0.0015 - Val accuracy: 0.9808\n",
      "Epoch 22 - Train loss: 0.0007 - Train Accuracy: 1.0000 - Val loss: 0.0013 - Val accuracy: 0.9783\n",
      "Epoch 23 - Train loss: 0.0009 - Train Accuracy: 1.0000 - Val loss: 0.0013 - Val accuracy: 0.9808\n",
      "Epoch 24 - Train loss: 0.0005 - Train Accuracy: 1.0000 - Val loss: 0.0011 - Val accuracy: 0.9791\n",
      "Epoch 25 - Train loss: 0.0005 - Train Accuracy: 1.0000 - Val loss: 0.0010 - Val accuracy: 0.9808\n",
      "Fold 3/3\n",
      "Epoch 1 - Train loss: 0.8471 - Train Accuracy: 0.7656 - Val loss: 0.5849 - Val accuracy: 0.7306\n",
      "Epoch 2 - Train loss: 0.3399 - Train Accuracy: 0.8396 - Val loss: 0.3477 - Val accuracy: 0.8284\n",
      "Epoch 3 - Train loss: 0.2472 - Train Accuracy: 0.8895 - Val loss: 0.2551 - Val accuracy: 0.8653\n",
      "Epoch 4 - Train loss: 0.1444 - Train Accuracy: 0.9643 - Val loss: 0.1678 - Val accuracy: 0.9487\n",
      "Epoch 5 - Train loss: 0.1137 - Train Accuracy: 0.9680 - Val loss: 0.1702 - Val accuracy: 0.9471\n",
      "Epoch 6 - Train loss: 0.0825 - Train Accuracy: 0.9824 - Val loss: 0.1206 - Val accuracy: 0.9495\n",
      "Epoch 7 - Train loss: 0.0860 - Train Accuracy: 0.9859 - Val loss: 0.1451 - Val accuracy: 0.9567\n",
      "Epoch 8 - Train loss: 0.0473 - Train Accuracy: 0.9958 - Val loss: 0.0971 - Val accuracy: 0.9751\n",
      "Epoch 9 - Train loss: 0.0368 - Train Accuracy: 0.9979 - Val loss: 0.0916 - Val accuracy: 0.9655\n",
      "Epoch 10 - Train loss: 0.0283 - Train Accuracy: 0.9988 - Val loss: 0.0643 - Val accuracy: 0.9679\n",
      "Epoch 11 - Train loss: 0.0240 - Train Accuracy: 0.9995 - Val loss: 0.0498 - Val accuracy: 0.9735\n",
      "Epoch 12 - Train loss: 0.0150 - Train Accuracy: 0.9984 - Val loss: 0.0297 - Val accuracy: 0.9759\n",
      "Epoch 13 - Train loss: 0.0118 - Train Accuracy: 0.9998 - Val loss: 0.0300 - Val accuracy: 0.9743\n",
      "Epoch 14 - Train loss: 0.0106 - Train Accuracy: 0.9995 - Val loss: 0.0252 - Val accuracy: 0.9767\n",
      "Epoch 15 - Train loss: 0.0097 - Train Accuracy: 1.0000 - Val loss: 0.0214 - Val accuracy: 0.9727\n",
      "Epoch 16 - Train loss: 0.0057 - Train Accuracy: 1.0000 - Val loss: 0.0151 - Val accuracy: 0.9775\n",
      "Epoch 17 - Train loss: 0.0046 - Train Accuracy: 1.0000 - Val loss: 0.0081 - Val accuracy: 0.9832\n",
      "Epoch 18 - Train loss: 0.0037 - Train Accuracy: 1.0000 - Val loss: 0.0052 - Val accuracy: 0.9872\n",
      "Epoch 19 - Train loss: 0.0022 - Train Accuracy: 1.0000 - Val loss: 0.0027 - Val accuracy: 0.9864\n",
      "Epoch 20 - Train loss: 0.0014 - Train Accuracy: 1.0000 - Val loss: 0.0020 - Val accuracy: 0.9864\n",
      "Epoch 21 - Train loss: 0.0008 - Train Accuracy: 1.0000 - Val loss: 0.0016 - Val accuracy: 0.9880\n",
      "Epoch 22 - Train loss: 0.0007 - Train Accuracy: 1.0000 - Val loss: 0.0014 - Val accuracy: 0.9888\n",
      "Epoch 23 - Train loss: 0.0010 - Train Accuracy: 1.0000 - Val loss: 0.0013 - Val accuracy: 0.9888\n",
      "Epoch 24 - Train loss: 0.0006 - Train Accuracy: 1.0000 - Val loss: 0.0012 - Val accuracy: 0.9880\n",
      "Epoch 25 - Train loss: 0.0005 - Train Accuracy: 1.0000 - Val loss: 0.0011 - Val accuracy: 0.9880\n"
     ]
    }
   ],
   "source": [
    "# K-fold cross-validation\n",
    "kf = KFold(n_splits=k, shuffle=True)\n",
    "\n",
    "# Train and validate for each fold\n",
    "for fold, (train_indices, val_indices) in enumerate(kf.split(train_dataset)):\n",
    "    print(f'Fold {fold + 1}/{k}')\n",
    "    \n",
    "    # Create subset datasets and dataloaders for this fold\n",
    "    train_subset = Subset(train_dataset, train_indices)\n",
    "    kfold_val_subset = Subset(train_dataset, val_indices)\n",
    "    train_loader = DataLoader(train_subset, batch_size=64, shuffle=True)\n",
    "    kfold_val_loader = DataLoader(kfold_val_subset, batch_size=64, shuffle=False)\n",
    "    # Model\n",
    "    model = ResNet9()\n",
    "    model.to(device)\n",
    "    \n",
    "    # Define the loss function and optimizer\n",
    "    criterion = nn.CrossEntropyLoss()\n",
    "#   optimizer = optim.Adam(model.parameters(), learning_rate)\n",
    "    optimizer = optim.SGD(model.parameters(), lr=learning_rate, momentum=0.9)\n",
    "    \n",
    "    train_losses = []\n",
    "    train_accuracies = []\n",
    "    \n",
    "    val_losses = []\n",
    "    val_accuracies = []\n",
    "    \n",
    "    kfold_val_losses = []\n",
    "    kfold_val_accuracies = []\n",
    "    \n",
    "    # Train and validate for this fold\n",
    "    for epoch in range(number_of_epochs):\n",
    "        train_loss = train(model, train_loader, criterion, optimizer)\n",
    "        kfold_val_loss = train(model,kfold_val_loader,criterion,optimizer)\n",
    "        val_loss = train(model,val_dataloader,criterion,optimizer)\n",
    "        \n",
    "        # Loss\n",
    "        train_losses.append(train_loss)\n",
    "        kfold_val_losses.append(kfold_val_loss)\n",
    "        val_losses.append(val_loss)\n",
    "        \n",
    "        preds, labels = evaluate(model, train_loader)\n",
    "        train_accuracy = get_accuracy(preds, labels)\n",
    "\n",
    "        preds, labels = evaluate(model, kfold_val_loader)\n",
    "        kfold_val_accuracy = get_accuracy(preds, labels)\n",
    "\n",
    "        preds, labels = evaluate(model, val_dataloader)\n",
    "        val_accuracy = get_accuracy(preds, labels)\n",
    "\n",
    "        # Accuracies\n",
    "        train_accuracies.append(train_accuracy)\n",
    "        kfold_val_accuracies.append(kfold_val_accuracy)\n",
    "        val_accuracies.append(val_accuracy)\n",
    "        \n",
    "        print(f'Epoch {epoch + 1} - Train loss: {train_loss:.4f} - Train Accuracy: {train_accuracy:.4f} - Val loss: {val_loss:.4f} - Val accuracy: {val_accuracy:.4f}')\n",
    "    \n",
    "    # Saving the Current Fold Model\n",
    "    torch.save(model, f'fold{fold}.pth')"
   ]
  },
  {
   "cell_type": "code",
   "execution_count": null,
   "id": "49285d79",
   "metadata": {},
   "outputs": [],
   "source": [
    "# Saving the model\n",
    "torch.save(model, './saved_model.pth')"
   ]
  },
  {
   "cell_type": "code",
   "execution_count": 22,
   "id": "71cfac3b",
   "metadata": {},
   "outputs": [],
   "source": [
    "# Function to plot the losses\n",
    "def plot_losses():\n",
    "    matplot.plot(train_losses, '-bx')\n",
    "    matplot.plot(val_losses, '-rx')\n",
    "    matplot.xlabel('epoch')\n",
    "    matplot.ylabel('loss')\n",
    "    matplot.legend(['Training', 'Validation'])\n",
    "    matplot.title('Loss vs. No. of epochs');"
   ]
  },
  {
   "cell_type": "code",
   "execution_count": 23,
   "id": "4c1a0de7",
   "metadata": {},
   "outputs": [
    {
     "data": {
      "image/png": "[encoded data removed]",
      "text/plain": [
       "<Figure size 432x288 with 1 Axes>"
      ]
     },
     "metadata": {
      "needs_background": "light"
     },
     "output_type": "display_data"
    }
   ],
   "source": [
    "plot_losses()"
   ]
  },
  {
   "cell_type": "code",
   "execution_count": 34,
   "id": "c7c9d1e5",
   "metadata": {},
   "outputs": [
    {
     "data": {
      "text/plain": [
       "ResNet9(\n",
       "  (conv): Conv2d(3, 64, kernel_size=(3, 3), stride=(1, 1), padding=(1, 1), bias=False)\n",
       "  (bn): BatchNorm2d(64, eps=1e-05, momentum=0.1, affine=True, track_running_stats=True)\n",
       "  (relu): ReLU(inplace=True)\n",
       "  (layer1): Sequential(\n",
       "    (0): ResidualBlock(\n",
       "      (conv1): Conv2d(64, 128, kernel_size=(3, 3), stride=(2, 2), padding=(1, 1), bias=False)\n",
       "      (bn1): BatchNorm2d(128, eps=1e-05, momentum=0.1, affine=True, track_running_stats=True)\n",
       "      (relu): ReLU(inplace=True)\n",
       "      (conv2): Conv2d(128, 128, kernel_size=(3, 3), stride=(1, 1), padding=(1, 1), bias=False)\n",
       "      (bn2): BatchNorm2d(128, eps=1e-05, momentum=0.1, affine=True, track_running_stats=True)\n",
       "      (downsample): Sequential(\n",
       "        (0): Conv2d(64, 128, kernel_size=(1, 1), stride=(2, 2), bias=False)\n",
       "        (1): BatchNorm2d(128, eps=1e-05, momentum=0.1, affine=True, track_running_stats=True)\n",
       "      )\n",
       "    )\n",
       "    (1): ResidualBlock(\n",
       "      (conv1): Conv2d(128, 128, kernel_size=(3, 3), stride=(1, 1), padding=(1, 1), bias=False)\n",
       "      (bn1): BatchNorm2d(128, eps=1e-05, momentum=0.1, affine=True, track_running_stats=True)\n",
       "      (relu): ReLU(inplace=True)\n",
       "      (conv2): Conv2d(128, 128, kernel_size=(3, 3), stride=(1, 1), padding=(1, 1), bias=False)\n",
       "      (bn2): BatchNorm2d(128, eps=1e-05, momentum=0.1, affine=True, track_running_stats=True)\n",
       "      (downsample): Identity()\n",
       "    )\n",
       "  )\n",
       "  (layer2): Sequential(\n",
       "    (0): ResidualBlock(\n",
       "      (conv1): Conv2d(128, 256, kernel_size=(3, 3), stride=(2, 2), padding=(1, 1), bias=False)\n",
       "      (bn1): BatchNorm2d(256, eps=1e-05, momentum=0.1, affine=True, track_running_stats=True)\n",
       "      (relu): ReLU(inplace=True)\n",
       "      (conv2): Conv2d(256, 256, kernel_size=(3, 3), stride=(1, 1), padding=(1, 1), bias=False)\n",
       "      (bn2): BatchNorm2d(256, eps=1e-05, momentum=0.1, affine=True, track_running_stats=True)\n",
       "      (downsample): Sequential(\n",
       "        (0): Conv2d(128, 256, kernel_size=(1, 1), stride=(2, 2), bias=False)\n",
       "        (1): BatchNorm2d(256, eps=1e-05, momentum=0.1, affine=True, track_running_stats=True)\n",
       "      )\n",
       "    )\n",
       "    (1): ResidualBlock(\n",
       "      (conv1): Conv2d(256, 256, kernel_size=(3, 3), stride=(1, 1), padding=(1, 1), bias=False)\n",
       "      (bn1): BatchNorm2d(256, eps=1e-05, momentum=0.1, affine=True, track_running_stats=True)\n",
       "      (relu): ReLU(inplace=True)\n",
       "      (conv2): Conv2d(256, 256, kernel_size=(3, 3), stride=(1, 1), padding=(1, 1), bias=False)\n",
       "      (bn2): BatchNorm2d(256, eps=1e-05, momentum=0.1, affine=True, track_running_stats=True)\n",
       "      (downsample): Identity()\n",
       "    )\n",
       "  )\n",
       "  (layer3): Sequential(\n",
       "    (0): ResidualBlock(\n",
       "      (conv1): Conv2d(256, 512, kernel_size=(3, 3), stride=(2, 2), padding=(1, 1), bias=False)\n",
       "      (bn1): BatchNorm2d(512, eps=1e-05, momentum=0.1, affine=True, track_running_stats=True)\n",
       "      (relu): ReLU(inplace=True)\n",
       "      (conv2): Conv2d(512, 512, kernel_size=(3, 3), stride=(1, 1), padding=(1, 1), bias=False)\n",
       "      (bn2): BatchNorm2d(512, eps=1e-05, momentum=0.1, affine=True, track_running_stats=True)\n",
       "      (downsample): Sequential(\n",
       "        (0): Conv2d(256, 512, kernel_size=(1, 1), stride=(2, 2), bias=False)\n",
       "        (1): BatchNorm2d(512, eps=1e-05, momentum=0.1, affine=True, track_running_stats=True)\n",
       "      )\n",
       "    )\n",
       "    (1): ResidualBlock(\n",
       "      (conv1): Conv2d(512, 512, kernel_size=(3, 3), stride=(1, 1), padding=(1, 1), bias=False)\n",
       "      (bn1): BatchNorm2d(512, eps=1e-05, momentum=0.1, affine=True, track_running_stats=True)\n",
       "      (relu): ReLU(inplace=True)\n",
       "      (conv2): Conv2d(512, 512, kernel_size=(3, 3), stride=(1, 1), padding=(1, 1), bias=False)\n",
       "      (bn2): BatchNorm2d(512, eps=1e-05, momentum=0.1, affine=True, track_running_stats=True)\n",
       "      (downsample): Identity()\n",
       "    )\n",
       "  )\n",
       "  (avgpool): AdaptiveAvgPool2d(output_size=(1, 1))\n",
       "  (fc): Linear(in_features=512, out_features=3, bias=True)\n",
       ")"
      ]
     },
     "execution_count": 34,
     "metadata": {},
     "output_type": "execute_result"
    }
   ],
   "source": [
    "# Testing the model\n",
    "test_model = ResNet9()\n",
    "PATH = './fold2.pth'\n",
    "test_model = torch.load(PATH)\n",
    "test_model.to(device)"
   ]
  },
  {
   "cell_type": "code",
   "execution_count": 35,
   "id": "d96724dc",
   "metadata": {
    "scrolled": true
   },
   "outputs": [
    {
     "data": {
      "text/plain": [
       "tensor(0.5570, device='cuda:0')"
      ]
     },
     "execution_count": 35,
     "metadata": {},
     "output_type": "execute_result"
    }
   ],
   "source": [
    "# Evaluating Test Data\n",
    "preds, labels = evaluate(test_model, test_dataloader)\n",
    "\n",
    "# Accuracy\n",
    "accuracy = get_accuracy(preds, labels)\n",
    "accuracy"
   ]
  },
  {
   "cell_type": "code",
   "execution_count": null,
   "id": "8482ef9d",
   "metadata": {},
   "outputs": [],
   "source": [
    "# F-1 SCORE\n",
    "f1_score = get_f1score(preds, labels)\n",
    "f1_score"
   ]
  },
  {
   "cell_type": "code",
   "execution_count": null,
   "id": "513c1453",
   "metadata": {
    "scrolled": true
   },
   "outputs": [],
   "source": [
    "# Confusion Matrix\n",
    "\n",
    "confusion_matrix = np.zeros((num_of_classes, num_of_classes))\n",
    "with torch.no_grad():\n",
    "    for i, (inputs, labels) in enumerate(test_dataloader):\n",
    "        inputs = inputs.to(device)\n",
    "        labels = labels.to(device)\n",
    "        outputs = test_model(inputs)\n",
    "        _, preds = torch.max(outputs, 1)\n",
    "        for t, p in zip(labels.view(-1), preds.view(-1)):\n",
    "                confusion_matrix[t.long(), p.long()] += 1\n",
    "\n",
    "matplot.figure(figsize=(12,7))\n",
    "\n",
    "df_cm = pd.DataFrame((confusion_matrix/(np.sum(confusion_matrix, axis=1))), index=classes, columns=classes)\n",
    "heatmap = sn.heatmap(df_cm, annot=True)"
   ]
  },
  {
   "cell_type": "code",
   "execution_count": null,
   "id": "f726f945",
   "metadata": {},
   "outputs": [],
   "source": []
  }
 ],
 "metadata": {
  "kernelspec": {
   "display_name": "Python 3 (ipykernel)",
   "language": "python",
   "name": "python3"
  },
  "language_info": {
   "codemirror_mode": {
    "name": "ipython",
    "version": 3
   },
   "file_extension": ".py",
   "mimetype": "text/x-python",
   "name": "python",
   "nbconvert_exporter": "python",
   "pygments_lexer": "ipython3",
   "version": "3.8.8"
  }
 },
 "nbformat": 4,
 "nbformat_minor": 5
}
