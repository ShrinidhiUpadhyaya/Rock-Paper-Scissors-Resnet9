{
 "cells": [
  {
   "cell_type": "code",
   "execution_count": 1,
   "id": "8f7aec70",
   "metadata": {},
   "outputs": [],
   "source": [
    "import os\n",
    "import torch\n",
    "import torchvision\n",
    "import torch.nn as nn\n",
    "import torch.nn.functional as F\n",
    "import torch.optim as optim\n",
    "import torchvision.transforms as transform\n",
    "import torchmetrics\n",
    "import random\n",
    "import matplotlib\n",
    "import matplotlib.pyplot as matplot\n",
    "\n",
    "from torchvision.datasets import ImageFolder, DatasetFolder\n",
    "from torch.utils.data import DataLoader, Subset, random_split, ConcatDataset\n",
    "from torchvision.utils import make_grid\n",
    "from torchvision.transforms import ToTensor, Normalize, Compose\n",
    "from torchmetrics import F1Score, Accuracy\n",
    "from PIL import Image\n",
    "\n",
    "from sklearn.model_selection import KFold\n",
    "\n",
    "%matplotlib inline"
   ]
  },
  {
   "cell_type": "code",
   "execution_count": 2,
   "id": "50997b1d",
   "metadata": {},
   "outputs": [],
   "source": [
    "from sklearn.metrics import confusion_matrix, accuracy_score\n",
    "import seaborn as sn\n",
    "import pandas as pd\n",
    "import numpy as np"
   ]
  },
  {
   "cell_type": "code",
   "execution_count": 3,
   "id": "0db4a7dd",
   "metadata": {},
   "outputs": [],
   "source": [
    "project_name='rock-paper-scissors'"
   ]
  },
  {
   "cell_type": "code",
   "execution_count": 4,
   "id": "e726e551",
   "metadata": {},
   "outputs": [
    {
     "name": "stdout",
     "output_type": "stream",
     "text": [
      "['paper', 'rock', 'scissors']\n",
      "['paper', 'rock', 'scissors']\n"
     ]
    }
   ],
   "source": [
    "# Data directory\n",
    "data_dir = './dataset'\n",
    "print(os.listdir(data_dir))\n",
    "\n",
    "# Classes\n",
    "classes = os.listdir(data_dir)\n",
    "print(classes)"
   ]
  },
  {
   "cell_type": "code",
   "execution_count": 5,
   "id": "bb730e8a",
   "metadata": {},
   "outputs": [],
   "source": [
    "stats=((0.485, 0.456, 0.406), (0.229, 0.224, 0.225))\n",
    "\n",
    "train_tfms = transform.Compose([\n",
    "                         transform.Resize((32,32)), \n",
    "                         transform.RandomHorizontalFlip(), \n",
    "                         transform.ToTensor(), \n",
    "                         transform.Normalize(*stats,inplace=True)])\n",
    "\n",
    "valid_tfms = transform.Compose([transform.Resize((32,32)),transform.ToTensor(), transform.Normalize(*stats)])"
   ]
  },
  {
   "cell_type": "code",
   "execution_count": 6,
   "id": "fa4e4ff6",
   "metadata": {},
   "outputs": [],
   "source": [
    "rock_paper_scissors_data = ImageFolder(data_dir, train_tfms)"
   ]
  },
  {
   "cell_type": "code",
   "execution_count": 7,
   "id": "ee047326",
   "metadata": {},
   "outputs": [],
   "source": [
    "train_size = int(0.85 * len(rock_paper_scissors_data))\n",
    "val_size = len(rock_paper_scissors_data) - train_size\n",
    "train_dataset, val_dataset = random_split(rock_paper_scissors_data, [train_size, val_size])"
   ]
  },
  {
   "cell_type": "code",
   "execution_count": 8,
   "id": "88597fd0",
   "metadata": {},
   "outputs": [
    {
     "data": {
      "text/plain": [
       "3"
      ]
     },
     "execution_count": 8,
     "metadata": {},
     "output_type": "execute_result"
    }
   ],
   "source": [
    "batch_size = 64\n",
    "num_of_classes = len(classes)\n",
    "num_of_classes"
   ]
  },
  {
   "cell_type": "code",
   "execution_count": null,
   "id": "15316eac",
   "metadata": {},
   "outputs": [],
   "source": [
    "# Data loaders\n",
    "# train_dataloader = DataLoader(train_dataset, batch_size=batch_size, shuffle=True, num_workers=3, pin_memory=True)\n",
    "# val_dataloader = DataLoader(valid_dataset, batch_size=batch_size, num_workers=3, pin_memory=True)\n",
    "# test_dataloader = DataLoader(test_dataset, batch_size=batch_size, num_workers=3, pin_memory=True)"
   ]
  },
  {
   "cell_type": "code",
   "execution_count": null,
   "id": "44b97db2",
   "metadata": {},
   "outputs": [],
   "source": [
    "print(len(val_dataset))"
   ]
  },
  {
   "cell_type": "code",
   "execution_count": 9,
   "id": "f8f5c7ab",
   "metadata": {},
   "outputs": [
    {
     "name": "stdout",
     "output_type": "stream",
     "text": [
      "121\n",
      "1247\n"
     ]
    }
   ],
   "source": [
    "custom_val_dataset = ImageFolder(\"./professor-dataset/validation\", valid_tfms)\n",
    "print(len(custom_val_dataset))\n",
    "complete_val_dataset = ConcatDataset([val_dataset,custom_val_dataset])\n",
    "print(len(complete_val_dataset))\n"
   ]
  },
  {
   "cell_type": "code",
   "execution_count": null,
   "id": "d845710e",
   "metadata": {},
   "outputs": [],
   "source": [
    "# Just the custom validation dataloader\n",
    "custom_validation_dataloader = DataLoader(custom_val_dataset, batch_size=batch_size, num_workers=3, pin_memory=True)"
   ]
  },
  {
   "cell_type": "code",
   "execution_count": 10,
   "id": "facf2cab",
   "metadata": {},
   "outputs": [],
   "source": [
    "test_dataset = ImageFolder(\"./professor-dataset/test\", valid_tfms)"
   ]
  },
  {
   "cell_type": "code",
   "execution_count": 11,
   "id": "4df173b2",
   "metadata": {},
   "outputs": [],
   "source": [
    "train_dataloader = DataLoader(train_dataset, batch_size=batch_size, shuffle=True, num_workers=3, pin_memory=True)\n",
    "val_dataloader = DataLoader(complete_val_dataset, batch_size=batch_size, num_workers=3, pin_memory=True)\n",
    "test_dataloader = DataLoader(test_dataset, batch_size=batch_size, num_workers=3, pin_memory=True)"
   ]
  },
  {
   "cell_type": "code",
   "execution_count": null,
   "id": "39071f1e",
   "metadata": {},
   "outputs": [],
   "source": [
    "type(val_dataloader)"
   ]
  },
  {
   "cell_type": "code",
   "execution_count": null,
   "id": "08643155",
   "metadata": {},
   "outputs": [],
   "source": [
    "# Function to show images\n",
    "def show_images(dataloader):\n",
    "    for images, labels in dataloader:\n",
    "        fig, ax = matplot.subplots(figsize=(12, 12))\n",
    "        ax.set_xticks([]); ax.set_yticks([])\n",
    "        ax.imshow(make_grid(images[:64], nrow=8).permute(1, 2, 0))\n",
    "        break\n"
   ]
  },
  {
   "cell_type": "code",
   "execution_count": null,
   "id": "09ab190b",
   "metadata": {},
   "outputs": [],
   "source": [
    "show_images(val_dataloader)"
   ]
  },
  {
   "cell_type": "code",
   "execution_count": 12,
   "id": "dcc30f0f",
   "metadata": {},
   "outputs": [],
   "source": [
    "def get_default_device():\n",
    "    \"\"\"Pick GPU if available, else CPU\"\"\"\n",
    "    if torch.cuda.is_available():\n",
    "        return torch.device('cuda')\n",
    "    else:\n",
    "        return torch.device('cpu')\n",
    "    \n",
    "def to_device(data, device):\n",
    "    \"\"\"Move tensor(s) to chosen device\"\"\"\n",
    "    if isinstance(data, (list,tuple)):\n",
    "        return [to_device(x, device) for x in data]\n",
    "    return data.to(device, non_blocking=True)\n",
    "\n",
    "class DeviceDataLoader():\n",
    "    \"\"\"Wrap a dataloader to move data to a device\"\"\"\n",
    "    def __init__(self, dl, device):\n",
    "        self.dl = dl\n",
    "        self.device = device\n",
    "        \n",
    "    def __iter__(self):\n",
    "        \"\"\"Yield a batch of data after moving it to device\"\"\"\n",
    "        for b in self.dl: \n",
    "            yield to_device(b, self.device)\n",
    "\n",
    "    def __len__(self):\n",
    "        \"\"\"Number of batches\"\"\"\n",
    "        return len(self.dl)"
   ]
  },
  {
   "cell_type": "code",
   "execution_count": 13,
   "id": "79728bdc",
   "metadata": {},
   "outputs": [
    {
     "data": {
      "text/plain": [
       "device(type='cuda')"
      ]
     },
     "execution_count": 13,
     "metadata": {},
     "output_type": "execute_result"
    }
   ],
   "source": [
    "device = get_default_device()\n",
    "device"
   ]
  },
  {
   "cell_type": "code",
   "execution_count": 14,
   "id": "740b583b",
   "metadata": {},
   "outputs": [],
   "source": [
    "# Moving Dataloader on the device('Cuda' if available)\n",
    "train_dataloader = DeviceDataLoader(train_dataloader, device)\n",
    "# val_dataloader = DeviceDataLoader(val_dataloader, device)"
   ]
  },
  {
   "cell_type": "code",
   "execution_count": 15,
   "id": "34b513fb",
   "metadata": {},
   "outputs": [],
   "source": [
    "class ResidualBlock(nn.Module):\n",
    "    def __init__(self, in_channels, out_channels, stride=1):\n",
    "        super(ResidualBlock, self).__init__()\n",
    "        self.conv1 = nn.Conv2d(in_channels, out_channels, kernel_size=3, stride=stride, padding=1, bias=False)\n",
    "        self.bn1 = nn.BatchNorm2d(out_channels)\n",
    "        self.relu = nn.ReLU(inplace=True)\n",
    "        self.conv2 = nn.Conv2d(out_channels, out_channels, kernel_size=3, stride=1, padding=1, bias=False)\n",
    "        self.bn2 = nn.BatchNorm2d(out_channels)\n",
    "        self.stride = stride\n",
    "        \n",
    "        if in_channels != out_channels or stride != 1:\n",
    "            self.downsample = nn.Sequential(\n",
    "                nn.Conv2d(in_channels, out_channels, kernel_size=1, stride=stride, bias=False),\n",
    "                nn.BatchNorm2d(out_channels)\n",
    "            )\n",
    "        else:\n",
    "            self.downsample = nn.Identity()\n",
    "            \n",
    "    def forward(self, x):\n",
    "        residual = self.downsample(x)\n",
    "        out = self.conv1(x)\n",
    "        out = self.bn1(out)\n",
    "        out = self.relu(out)\n",
    "        out = self.conv2(out)\n",
    "        out = self.bn2(out)\n",
    "        out += residual\n",
    "        out = self.relu(out)\n",
    "        return out\n",
    "        \n",
    "class ResNet9(nn.Module):\n",
    "    def __init__(self, num_classes=10):\n",
    "        super(ResNet9, self).__init__()\n",
    "        self.conv = nn.Conv2d(3, 64, kernel_size=3, stride=1, padding=1, bias=False)\n",
    "        self.bn = nn.BatchNorm2d(64)\n",
    "        self.relu = nn.ReLU(inplace=True)\n",
    "        self.layer1 = nn.Sequential(\n",
    "            ResidualBlock(64, 128, stride=2),\n",
    "            ResidualBlock(128, 128)\n",
    "        )\n",
    "        self.layer2 = nn.Sequential(\n",
    "            ResidualBlock(128, 256, stride=2),\n",
    "            ResidualBlock(256, 256)\n",
    "        )\n",
    "        self.layer3 = nn.Sequential(\n",
    "            ResidualBlock(256, 512, stride=2),\n",
    "            ResidualBlock(512, 512)\n",
    "        )\n",
    "        self.avgpool = nn.AdaptiveAvgPool2d((1,1))\n",
    "        self.fc = nn.Linear(512, num_classes)\n",
    "        \n",
    "    def forward(self, x):\n",
    "        out = self.conv(x)\n",
    "        out = self.bn(out)\n",
    "        out = self.relu(out)\n",
    "        out = self.layer1(out)\n",
    "        out = self.layer2(out)\n",
    "        out = self.layer3(out)\n",
    "        out = self.avgpool(out)\n",
    "        out = out.view(out.size(0), -1)\n",
    "        out = self.fc(out)\n",
    "        return out"
   ]
  },
  {
   "cell_type": "code",
   "execution_count": 16,
   "id": "4f5d81d4",
   "metadata": {},
   "outputs": [],
   "source": [
    "k = 5\n",
    "number_of_epochs = 25\n",
    "learning_rate = 0.001\n",
    "weight_decay = 1e-4"
   ]
  },
  {
   "cell_type": "code",
   "execution_count": 17,
   "id": "2a3304b6",
   "metadata": {},
   "outputs": [],
   "source": [
    "# F-1 Score\n",
    "def get_f1score(preds, labels):\n",
    "    f1_score = F1Score(task=\"multiclass\", num_classes=num_of_classes, average='weighted')\n",
    "    print(f1_score)\n",
    "    return f1_score(preds, labels)"
   ]
  },
  {
   "cell_type": "code",
   "execution_count": 18,
   "id": "80ce2dca",
   "metadata": {},
   "outputs": [],
   "source": [
    "# Accuracy\n",
    "def get_accuracy(preds, labels):\n",
    "    accuracy = Accuracy(task=\"multiclass\", num_classes=num_of_classes).to(device)\n",
    "    b = accuracy(preds, labels)\n",
    "    return b"
   ]
  },
  {
   "cell_type": "code",
   "execution_count": 19,
   "id": "4a37e3f7",
   "metadata": {},
   "outputs": [],
   "source": [
    "# Training function\n",
    "def train(model, train_loader, criterion, optimizer):\n",
    "    model.train()\n",
    "    running_loss = 0.0\n",
    "    for inputs, labels in train_loader:\n",
    "        inputs = inputs.to(device)\n",
    "        labels = labels.to(device)\n",
    "        optimizer.zero_grad()\n",
    "        outputs = model(inputs)\n",
    "        loss = criterion(outputs, labels)\n",
    "        loss.backward()\n",
    "        optimizer.step()\n",
    "        running_loss += loss.item() * inputs.size(0)\n",
    "    epoch_loss = running_loss / len(train_loader.dataset)\n",
    "    return epoch_loss"
   ]
  },
  {
   "cell_type": "code",
   "execution_count": 20,
   "id": "edc96273",
   "metadata": {},
   "outputs": [],
   "source": [
    "# Evaluate model\n",
    "def evaluate(model, val_loader):\n",
    "    model.eval()\n",
    "    all_labels = []\n",
    "    all_preds = []\n",
    "    with torch.no_grad():\n",
    "        for inputs, labels in val_loader:\n",
    "            inputs = inputs.to(device)\n",
    "            labels = labels.to(device)\n",
    "            outputs = model(inputs)\n",
    "            _, preds = torch.max(outputs, 1)\n",
    "            all_labels.append(labels.cpu())\n",
    "            all_preds.append(preds.cpu())\n",
    "    all_labels = torch.cat(all_labels)\n",
    "    all_preds = torch.cat(all_preds)\n",
    "    return all_preds, all_labels"
   ]
  },
  {
   "cell_type": "code",
   "execution_count": 21,
   "id": "1926f8a8",
   "metadata": {},
   "outputs": [
    {
     "name": "stdout",
     "output_type": "stream",
     "text": [
      "Fold 1/5\n",
      "Epoch 1 - Train loss: 0.8406 - Train Accuracy: 0.7541 - Val loss: 0.5178 - Val accuracy: 0.7362\n",
      "Epoch 2 - Train loss: 0.3274 - Train Accuracy: 0.7376 - Val loss: 0.3272 - Val accuracy: 0.7065\n",
      "Epoch 3 - Train loss: 0.2040 - Train Accuracy: 0.9279 - Val loss: 0.1981 - Val accuracy: 0.9150\n",
      "Epoch 4 - Train loss: 0.1463 - Train Accuracy: 0.9632 - Val loss: 0.1501 - Val accuracy: 0.9358\n",
      "Epoch 5 - Train loss: 0.1150 - Train Accuracy: 0.9383 - Val loss: 0.1352 - Val accuracy: 0.8893\n",
      "Epoch 6 - Train loss: 0.0778 - Train Accuracy: 0.9590 - Val loss: 0.1028 - Val accuracy: 0.9399\n",
      "Epoch 7 - Train loss: 0.0424 - Train Accuracy: 0.9900 - Val loss: 0.0906 - Val accuracy: 0.9647\n",
      "Epoch 8 - Train loss: 0.0451 - Train Accuracy: 0.9849 - Val loss: 0.0849 - Val accuracy: 0.9559\n",
      "Epoch 9 - Train loss: 0.0363 - Train Accuracy: 0.9967 - Val loss: 0.0854 - Val accuracy: 0.9703\n",
      "Epoch 10 - Train loss: 0.0287 - Train Accuracy: 0.9792 - Val loss: 0.0858 - Val accuracy: 0.9407\n",
      "Epoch 11 - Train loss: 0.0261 - Train Accuracy: 0.9998 - Val loss: 0.0556 - Val accuracy: 0.9735\n",
      "Epoch 12 - Train loss: 0.0133 - Train Accuracy: 0.9949 - Val loss: 0.0464 - Val accuracy: 0.9687\n",
      "Epoch 13 - Train loss: 0.0155 - Train Accuracy: 1.0000 - Val loss: 0.0329 - Val accuracy: 0.9695\n",
      "Epoch 14 - Train loss: 0.0079 - Train Accuracy: 0.9998 - Val loss: 0.0367 - Val accuracy: 0.9751\n",
      "Epoch 15 - Train loss: 0.0101 - Train Accuracy: 0.9998 - Val loss: 0.0247 - Val accuracy: 0.9759\n",
      "Epoch 16 - Train loss: 0.0042 - Train Accuracy: 0.9998 - Val loss: 0.0117 - Val accuracy: 0.9775\n",
      "Epoch 17 - Train loss: 0.0036 - Train Accuracy: 1.0000 - Val loss: 0.0054 - Val accuracy: 0.9800\n",
      "Epoch 18 - Train loss: 0.0022 - Train Accuracy: 1.0000 - Val loss: 0.0032 - Val accuracy: 0.9816\n",
      "Epoch 19 - Train loss: 0.0013 - Train Accuracy: 1.0000 - Val loss: 0.0024 - Val accuracy: 0.9840\n",
      "Epoch 20 - Train loss: 0.0007 - Train Accuracy: 1.0000 - Val loss: 0.0019 - Val accuracy: 0.9832\n",
      "Epoch 21 - Train loss: 0.0006 - Train Accuracy: 1.0000 - Val loss: 0.0017 - Val accuracy: 0.9840\n",
      "Epoch 22 - Train loss: 0.0007 - Train Accuracy: 1.0000 - Val loss: 0.0016 - Val accuracy: 0.9864\n",
      "Epoch 23 - Train loss: 0.0004 - Train Accuracy: 1.0000 - Val loss: 0.0015 - Val accuracy: 0.9848\n",
      "Epoch 24 - Train loss: 0.0006 - Train Accuracy: 1.0000 - Val loss: 0.0013 - Val accuracy: 0.9840\n",
      "Epoch 25 - Train loss: 0.0006 - Train Accuracy: 1.0000 - Val loss: 0.0013 - Val accuracy: 0.9856\n",
      "Fold 2/5\n",
      "Epoch 1 - Train loss: 0.8662 - Train Accuracy: 0.7302 - Val loss: 0.5367 - Val accuracy: 0.6985\n",
      "Epoch 2 - Train loss: 0.3403 - Train Accuracy: 0.8556 - Val loss: 0.3971 - Val accuracy: 0.8356\n",
      "Epoch 3 - Train loss: 0.2270 - Train Accuracy: 0.9442 - Val loss: 0.2559 - Val accuracy: 0.9142\n",
      "Epoch 4 - Train loss: 0.1524 - Train Accuracy: 0.9161 - Val loss: 0.2406 - Val accuracy: 0.8821\n",
      "Epoch 5 - Train loss: 0.1443 - Train Accuracy: 0.9204 - Val loss: 0.1521 - Val accuracy: 0.8725\n",
      "Epoch 6 - Train loss: 0.0866 - Train Accuracy: 0.9269 - Val loss: 0.1089 - Val accuracy: 0.9110\n",
      "Epoch 7 - Train loss: 0.0679 - Train Accuracy: 0.9882 - Val loss: 0.1413 - Val accuracy: 0.9559\n",
      "Epoch 8 - Train loss: 0.0516 - Train Accuracy: 0.9673 - Val loss: 0.0917 - Val accuracy: 0.9278\n",
      "Epoch 9 - Train loss: 0.0362 - Train Accuracy: 0.9951 - Val loss: 0.0886 - Val accuracy: 0.9663\n",
      "Epoch 10 - Train loss: 0.0315 - Train Accuracy: 0.9971 - Val loss: 0.0897 - Val accuracy: 0.9631\n",
      "Epoch 11 - Train loss: 0.0223 - Train Accuracy: 0.9982 - Val loss: 0.0828 - Val accuracy: 0.9647\n",
      "Epoch 12 - Train loss: 0.0198 - Train Accuracy: 0.9975 - Val loss: 0.0663 - Val accuracy: 0.9567\n",
      "Epoch 13 - Train loss: 0.0218 - Train Accuracy: 0.9996 - Val loss: 0.0412 - Val accuracy: 0.9743\n",
      "Epoch 14 - Train loss: 0.0103 - Train Accuracy: 0.9990 - Val loss: 0.0299 - Val accuracy: 0.9783\n",
      "Epoch 15 - Train loss: 0.0078 - Train Accuracy: 0.9994 - Val loss: 0.0248 - Val accuracy: 0.9759\n",
      "Epoch 16 - Train loss: 0.0063 - Train Accuracy: 1.0000 - Val loss: 0.0157 - Val accuracy: 0.9791\n",
      "Epoch 17 - Train loss: 0.0044 - Train Accuracy: 1.0000 - Val loss: 0.0082 - Val accuracy: 0.9743\n",
      "Epoch 18 - Train loss: 0.0026 - Train Accuracy: 0.9998 - Val loss: 0.0048 - Val accuracy: 0.9791\n",
      "Epoch 19 - Train loss: 0.0016 - Train Accuracy: 1.0000 - Val loss: 0.0034 - Val accuracy: 0.9840\n",
      "Epoch 20 - Train loss: 0.0009 - Train Accuracy: 1.0000 - Val loss: 0.0025 - Val accuracy: 0.9840\n",
      "Epoch 21 - Train loss: 0.0007 - Train Accuracy: 1.0000 - Val loss: 0.0018 - Val accuracy: 0.9832\n",
      "Epoch 22 - Train loss: 0.0008 - Train Accuracy: 1.0000 - Val loss: 0.0016 - Val accuracy: 0.9832\n",
      "Epoch 23 - Train loss: 0.0006 - Train Accuracy: 1.0000 - Val loss: 0.0016 - Val accuracy: 0.9832\n",
      "Epoch 24 - Train loss: 0.0008 - Train Accuracy: 1.0000 - Val loss: 0.0014 - Val accuracy: 0.9816\n",
      "Epoch 25 - Train loss: 0.0007 - Train Accuracy: 1.0000 - Val loss: 0.0013 - Val accuracy: 0.9848\n",
      "Fold 3/5\n",
      "Epoch 1 - Train loss: 0.8237 - Train Accuracy: 0.7429 - Val loss: 0.5176 - Val accuracy: 0.7193\n",
      "Epoch 2 - Train loss: 0.3273 - Train Accuracy: 0.7082 - Val loss: 0.3328 - Val accuracy: 0.6664\n",
      "Epoch 3 - Train loss: 0.2400 - Train Accuracy: 0.9273 - Val loss: 0.2169 - Val accuracy: 0.9070\n",
      "Epoch 4 - Train loss: 0.1379 - Train Accuracy: 0.9255 - Val loss: 0.1677 - Val accuracy: 0.9054\n",
      "Epoch 5 - Train loss: 0.1162 - Train Accuracy: 0.9726 - Val loss: 0.1651 - Val accuracy: 0.9487\n",
      "Epoch 6 - Train loss: 0.0863 - Train Accuracy: 0.7774 - Val loss: 0.1200 - Val accuracy: 0.7442\n",
      "Epoch 7 - Train loss: 0.0637 - Train Accuracy: 0.9890 - Val loss: 0.1359 - Val accuracy: 0.9543\n",
      "Epoch 8 - Train loss: 0.0469 - Train Accuracy: 0.9739 - Val loss: 0.0849 - Val accuracy: 0.9503\n",
      "Epoch 9 - Train loss: 0.0369 - Train Accuracy: 0.9796 - Val loss: 0.0720 - Val accuracy: 0.9567\n",
      "Epoch 10 - Train loss: 0.0366 - Train Accuracy: 0.9929 - Val loss: 0.0786 - Val accuracy: 0.9583\n",
      "Epoch 11 - Train loss: 0.0311 - Train Accuracy: 0.9688 - Val loss: 0.0835 - Val accuracy: 0.9407\n",
      "Epoch 12 - Train loss: 0.0252 - Train Accuracy: 0.9996 - Val loss: 0.0489 - Val accuracy: 0.9735\n",
      "Epoch 13 - Train loss: 0.0134 - Train Accuracy: 0.9996 - Val loss: 0.0384 - Val accuracy: 0.9751\n",
      "Epoch 14 - Train loss: 0.0079 - Train Accuracy: 1.0000 - Val loss: 0.0302 - Val accuracy: 0.9719\n",
      "Epoch 15 - Train loss: 0.0077 - Train Accuracy: 1.0000 - Val loss: 0.0236 - Val accuracy: 0.9759\n",
      "Epoch 16 - Train loss: 0.0070 - Train Accuracy: 0.9998 - Val loss: 0.0189 - Val accuracy: 0.9759\n",
      "Epoch 17 - Train loss: 0.0047 - Train Accuracy: 1.0000 - Val loss: 0.0192 - Val accuracy: 0.9727\n",
      "Epoch 18 - Train loss: 0.0051 - Train Accuracy: 1.0000 - Val loss: 0.0119 - Val accuracy: 0.9751\n",
      "Epoch 19 - Train loss: 0.0026 - Train Accuracy: 0.9998 - Val loss: 0.0058 - Val accuracy: 0.9824\n",
      "Epoch 20 - Train loss: 0.0016 - Train Accuracy: 1.0000 - Val loss: 0.0030 - Val accuracy: 0.9783\n",
      "Epoch 21 - Train loss: 0.0010 - Train Accuracy: 1.0000 - Val loss: 0.0021 - Val accuracy: 0.9767\n",
      "Epoch 22 - Train loss: 0.0009 - Train Accuracy: 1.0000 - Val loss: 0.0018 - Val accuracy: 0.9775\n",
      "Epoch 23 - Train loss: 0.0007 - Train Accuracy: 1.0000 - Val loss: 0.0016 - Val accuracy: 0.9791\n",
      "Epoch 24 - Train loss: 0.0006 - Train Accuracy: 1.0000 - Val loss: 0.0015 - Val accuracy: 0.9767\n",
      "Epoch 25 - Train loss: 0.0006 - Train Accuracy: 1.0000 - Val loss: 0.0012 - Val accuracy: 0.9759\n",
      "Fold 4/5\n",
      "Epoch 1 - Train loss: 0.8498 - Train Accuracy: 0.7486 - Val loss: 0.5238 - Val accuracy: 0.7257\n",
      "Epoch 2 - Train loss: 0.3204 - Train Accuracy: 0.6582 - Val loss: 0.3373 - Val accuracy: 0.6135\n",
      "Epoch 3 - Train loss: 0.2208 - Train Accuracy: 0.7907 - Val loss: 0.2346 - Val accuracy: 0.7618\n",
      "Epoch 4 - Train loss: 0.1725 - Train Accuracy: 0.9538 - Val loss: 0.1699 - Val accuracy: 0.9262\n",
      "Epoch 5 - Train loss: 0.1380 - Train Accuracy: 0.9667 - Val loss: 0.1504 - Val accuracy: 0.9535\n",
      "Epoch 6 - Train loss: 0.0844 - Train Accuracy: 0.8129 - Val loss: 0.1199 - Val accuracy: 0.8019\n",
      "Epoch 7 - Train loss: 0.0679 - Train Accuracy: 0.9847 - Val loss: 0.1187 - Val accuracy: 0.9583\n",
      "Epoch 8 - Train loss: 0.0469 - Train Accuracy: 0.9643 - Val loss: 0.0901 - Val accuracy: 0.9294\n",
      "Epoch 9 - Train loss: 0.0493 - Train Accuracy: 0.9953 - Val loss: 0.0861 - Val accuracy: 0.9735\n",
      "Epoch 10 - Train loss: 0.0341 - Train Accuracy: 0.9957 - Val loss: 0.0722 - Val accuracy: 0.9719\n"
     ]
    },
    {
     "name": "stdout",
     "output_type": "stream",
     "text": [
      "Epoch 11 - Train loss: 0.0253 - Train Accuracy: 0.9965 - Val loss: 0.0644 - Val accuracy: 0.9671\n",
      "Epoch 12 - Train loss: 0.0168 - Train Accuracy: 0.9990 - Val loss: 0.0531 - Val accuracy: 0.9679\n",
      "Epoch 13 - Train loss: 0.0161 - Train Accuracy: 0.9931 - Val loss: 0.0456 - Val accuracy: 0.9639\n",
      "Epoch 14 - Train loss: 0.0127 - Train Accuracy: 0.9994 - Val loss: 0.0296 - Val accuracy: 0.9783\n",
      "Epoch 15 - Train loss: 0.0074 - Train Accuracy: 0.9998 - Val loss: 0.0200 - Val accuracy: 0.9751\n",
      "Epoch 16 - Train loss: 0.0079 - Train Accuracy: 1.0000 - Val loss: 0.0106 - Val accuracy: 0.9783\n",
      "Epoch 17 - Train loss: 0.0055 - Train Accuracy: 1.0000 - Val loss: 0.0065 - Val accuracy: 0.9791\n",
      "Epoch 18 - Train loss: 0.0028 - Train Accuracy: 1.0000 - Val loss: 0.0036 - Val accuracy: 0.9767\n",
      "Epoch 19 - Train loss: 0.0017 - Train Accuracy: 1.0000 - Val loss: 0.0026 - Val accuracy: 0.9783\n",
      "Epoch 20 - Train loss: 0.0011 - Train Accuracy: 1.0000 - Val loss: 0.0025 - Val accuracy: 0.9751\n",
      "Epoch 21 - Train loss: 0.0013 - Train Accuracy: 1.0000 - Val loss: 0.0019 - Val accuracy: 0.9840\n",
      "Epoch 22 - Train loss: 0.0008 - Train Accuracy: 1.0000 - Val loss: 0.0015 - Val accuracy: 0.9783\n",
      "Epoch 23 - Train loss: 0.0009 - Train Accuracy: 1.0000 - Val loss: 0.0018 - Val accuracy: 0.9783\n",
      "Epoch 24 - Train loss: 0.0006 - Train Accuracy: 1.0000 - Val loss: 0.0014 - Val accuracy: 0.9824\n",
      "Epoch 25 - Train loss: 0.0006 - Train Accuracy: 1.0000 - Val loss: 0.0012 - Val accuracy: 0.9767\n",
      "Fold 5/5\n",
      "Epoch 1 - Train loss: 0.8369 - Train Accuracy: 0.6511 - Val loss: 0.5580 - Val accuracy: 0.6135\n",
      "Epoch 2 - Train loss: 0.3376 - Train Accuracy: 0.7545 - Val loss: 0.3511 - Val accuracy: 0.7257\n",
      "Epoch 3 - Train loss: 0.2344 - Train Accuracy: 0.8966 - Val loss: 0.2284 - Val accuracy: 0.8701\n",
      "Epoch 4 - Train loss: 0.1876 - Train Accuracy: 0.8891 - Val loss: 0.2019 - Val accuracy: 0.8781\n",
      "Epoch 5 - Train loss: 0.1240 - Train Accuracy: 0.9187 - Val loss: 0.1382 - Val accuracy: 0.8901\n",
      "Epoch 6 - Train loss: 0.0978 - Train Accuracy: 0.9536 - Val loss: 0.1279 - Val accuracy: 0.9182\n",
      "Epoch 7 - Train loss: 0.0686 - Train Accuracy: 0.9414 - Val loss: 0.1329 - Val accuracy: 0.9174\n",
      "Epoch 8 - Train loss: 0.0602 - Train Accuracy: 0.9657 - Val loss: 0.0903 - Val accuracy: 0.9415\n",
      "Epoch 9 - Train loss: 0.0315 - Train Accuracy: 0.9863 - Val loss: 0.0717 - Val accuracy: 0.9439\n",
      "Epoch 10 - Train loss: 0.0269 - Train Accuracy: 0.9935 - Val loss: 0.0770 - Val accuracy: 0.9607\n",
      "Epoch 11 - Train loss: 0.0380 - Train Accuracy: 0.9984 - Val loss: 0.0561 - Val accuracy: 0.9631\n",
      "Epoch 12 - Train loss: 0.0160 - Train Accuracy: 0.9978 - Val loss: 0.0412 - Val accuracy: 0.9687\n",
      "Epoch 13 - Train loss: 0.0135 - Train Accuracy: 0.9998 - Val loss: 0.0374 - Val accuracy: 0.9671\n",
      "Epoch 14 - Train loss: 0.0111 - Train Accuracy: 1.0000 - Val loss: 0.0489 - Val accuracy: 0.9671\n",
      "Epoch 15 - Train loss: 0.0101 - Train Accuracy: 0.9998 - Val loss: 0.0289 - Val accuracy: 0.9711\n",
      "Epoch 16 - Train loss: 0.0080 - Train Accuracy: 1.0000 - Val loss: 0.0179 - Val accuracy: 0.9751\n",
      "Epoch 17 - Train loss: 0.0063 - Train Accuracy: 1.0000 - Val loss: 0.0156 - Val accuracy: 0.9775\n",
      "Epoch 18 - Train loss: 0.0052 - Train Accuracy: 1.0000 - Val loss: 0.0090 - Val accuracy: 0.9711\n",
      "Epoch 19 - Train loss: 0.0032 - Train Accuracy: 1.0000 - Val loss: 0.0055 - Val accuracy: 0.9743\n",
      "Epoch 20 - Train loss: 0.0013 - Train Accuracy: 1.0000 - Val loss: 0.0029 - Val accuracy: 0.9743\n",
      "Epoch 21 - Train loss: 0.0008 - Train Accuracy: 1.0000 - Val loss: 0.0020 - Val accuracy: 0.9759\n",
      "Epoch 22 - Train loss: 0.0012 - Train Accuracy: 1.0000 - Val loss: 0.0020 - Val accuracy: 0.9800\n",
      "Epoch 23 - Train loss: 0.0013 - Train Accuracy: 1.0000 - Val loss: 0.0019 - Val accuracy: 0.9775\n",
      "Epoch 24 - Train loss: 0.0005 - Train Accuracy: 1.0000 - Val loss: 0.0015 - Val accuracy: 0.9767\n",
      "Epoch 25 - Train loss: 0.0007 - Train Accuracy: 1.0000 - Val loss: 0.0012 - Val accuracy: 0.9735\n"
     ]
    }
   ],
   "source": [
    "# K-fold cross-validation\n",
    "kf = KFold(n_splits=k, shuffle=True)\n",
    "\n",
    "# Train and validate for each fold\n",
    "for fold, (train_indices, val_indices) in enumerate(kf.split(train_dataset)):\n",
    "    print(f'Fold {fold + 1}/{k}')\n",
    "    \n",
    "    # Create subset datasets and dataloaders for this fold\n",
    "    train_subset = Subset(train_dataset, train_indices)\n",
    "    kfold_val_subset = Subset(train_dataset, val_indices)\n",
    "    train_loader = DataLoader(train_subset, batch_size=64, shuffle=True)\n",
    "    kfold_val_loader = DataLoader(kfold_val_subset, batch_size=64, shuffle=False)\n",
    "    # Model\n",
    "    model = ResNet9()\n",
    "    model.to(device)\n",
    "    \n",
    "    # Define the loss function and optimizer\n",
    "    criterion = nn.CrossEntropyLoss()\n",
    "#   optimizer = optim.Adam(model.parameters(), learning_rate)\n",
    "    optimizer = optim.SGD(model.parameters(), lr=learning_rate, momentum=0.9)\n",
    "    \n",
    "    train_losses = []\n",
    "    train_accuracies = []\n",
    "    \n",
    "    val_losses = []\n",
    "    val_accuracies = []\n",
    "    \n",
    "    kfold_val_losses = []\n",
    "    kfold_val_accuracies = []\n",
    "    \n",
    "    # Train and validate for this fold\n",
    "    for epoch in range(number_of_epochs):\n",
    "        train_loss = train(model, train_loader, criterion, optimizer)\n",
    "        kfold_val_loss = train(model,kfold_val_loader,criterion,optimizer)\n",
    "        val_loss = train(model,val_dataloader,criterion,optimizer)\n",
    "        \n",
    "        train_losses.append(train_loss)\n",
    "        kfold_val_losses.append(kfold_val_loss)\n",
    "        val_losses.append(val_loss)\n",
    "        \n",
    "        preds, labels = evaluate(model, train_loader)\n",
    "        train_accuracy = get_accuracy(preds, labels)\n",
    "\n",
    "        preds, labels = evaluate(model, kfold_val_loader)\n",
    "        kfold_val_accuracy = get_accuracy(preds, labels)\n",
    "\n",
    "        preds, labels = evaluate(model, val_dataloader)\n",
    "        val_accuracy = get_accuracy(preds, labels)\n",
    "\n",
    "        train_accuracies.append(train_accuracy)\n",
    "        kfold_val_accuracies.append(kfold_val_accuracy)\n",
    "        val_accuracies.append(val_accuracy)\n",
    "        \n",
    "        print(f'Epoch {epoch + 1} - Train loss: {train_loss:.4f} - Train Accuracy: {train_accuracy:.4f} - Val loss: {val_loss:.4f} - Val accuracy: {val_accuracy:.4f}')\n",
    "    \n",
    "    # Saving the Current Fold Model\n",
    "    torch.save(model, f'fold{fold}.pth')"
   ]
  },
  {
   "cell_type": "code",
   "execution_count": null,
   "id": "83c73203",
   "metadata": {},
   "outputs": [],
   "source": [
    "model = torch.load(\"./model/256/3Fold-100Epochs/fold1.pth\")\n",
    "model.to(device)\n",
    "train_for_more_epochs(model,100)"
   ]
  },
  {
   "cell_type": "code",
   "execution_count": null,
   "id": "49285d79",
   "metadata": {},
   "outputs": [],
   "source": [
    "# Saving the model\n",
    "torch.save(model, './saved_model.pth')"
   ]
  },
  {
   "cell_type": "code",
   "execution_count": 22,
   "id": "71cfac3b",
   "metadata": {},
   "outputs": [],
   "source": [
    "# Function to plot the losses\n",
    "def plot_losses():\n",
    "    matplot.plot(train_losses, '-bx')\n",
    "    matplot.plot(val_losses, '-rx')\n",
    "    matplot.xlabel('epoch')\n",
    "    matplot.ylabel('loss')\n",
    "    matplot.legend(['Training', 'Validation'])\n",
    "    matplot.title('Loss vs. No. of epochs');"
   ]
  },
  {
   "cell_type": "code",
   "execution_count": 23,
   "id": "4c1a0de7",
   "metadata": {},
   "outputs": [
    {
     "data": {
      "image/png": "[encoded data removed]",
      "text/plain": [
       "<Figure size 432x288 with 1 Axes>"
      ]
     },
     "metadata": {
      "needs_background": "light"
     },
     "output_type": "display_data"
    }
   ],
   "source": [
    "plot_losses()"
   ]
  },
  {
   "cell_type": "code",
   "execution_count": 63,
   "id": "c7c9d1e5",
   "metadata": {},
   "outputs": [
    {
     "data": {
      "text/plain": [
       "ResNet9(\n",
       "  (conv): Conv2d(3, 64, kernel_size=(3, 3), stride=(1, 1), padding=(1, 1), bias=False)\n",
       "  (bn): BatchNorm2d(64, eps=1e-05, momentum=0.1, affine=True, track_running_stats=True)\n",
       "  (relu): ReLU(inplace=True)\n",
       "  (layer1): Sequential(\n",
       "    (0): ResidualBlock(\n",
       "      (conv1): Conv2d(64, 128, kernel_size=(3, 3), stride=(2, 2), padding=(1, 1), bias=False)\n",
       "      (bn1): BatchNorm2d(128, eps=1e-05, momentum=0.1, affine=True, track_running_stats=True)\n",
       "      (relu): ReLU(inplace=True)\n",
       "      (conv2): Conv2d(128, 128, kernel_size=(3, 3), stride=(1, 1), padding=(1, 1), bias=False)\n",
       "      (bn2): BatchNorm2d(128, eps=1e-05, momentum=0.1, affine=True, track_running_stats=True)\n",
       "      (downsample): Sequential(\n",
       "        (0): Conv2d(64, 128, kernel_size=(1, 1), stride=(2, 2), bias=False)\n",
       "        (1): BatchNorm2d(128, eps=1e-05, momentum=0.1, affine=True, track_running_stats=True)\n",
       "      )\n",
       "    )\n",
       "    (1): ResidualBlock(\n",
       "      (conv1): Conv2d(128, 128, kernel_size=(3, 3), stride=(1, 1), padding=(1, 1), bias=False)\n",
       "      (bn1): BatchNorm2d(128, eps=1e-05, momentum=0.1, affine=True, track_running_stats=True)\n",
       "      (relu): ReLU(inplace=True)\n",
       "      (conv2): Conv2d(128, 128, kernel_size=(3, 3), stride=(1, 1), padding=(1, 1), bias=False)\n",
       "      (bn2): BatchNorm2d(128, eps=1e-05, momentum=0.1, affine=True, track_running_stats=True)\n",
       "      (downsample): Identity()\n",
       "    )\n",
       "  )\n",
       "  (layer2): Sequential(\n",
       "    (0): ResidualBlock(\n",
       "      (conv1): Conv2d(128, 256, kernel_size=(3, 3), stride=(2, 2), padding=(1, 1), bias=False)\n",
       "      (bn1): BatchNorm2d(256, eps=1e-05, momentum=0.1, affine=True, track_running_stats=True)\n",
       "      (relu): ReLU(inplace=True)\n",
       "      (conv2): Conv2d(256, 256, kernel_size=(3, 3), stride=(1, 1), padding=(1, 1), bias=False)\n",
       "      (bn2): BatchNorm2d(256, eps=1e-05, momentum=0.1, affine=True, track_running_stats=True)\n",
       "      (downsample): Sequential(\n",
       "        (0): Conv2d(128, 256, kernel_size=(1, 1), stride=(2, 2), bias=False)\n",
       "        (1): BatchNorm2d(256, eps=1e-05, momentum=0.1, affine=True, track_running_stats=True)\n",
       "      )\n",
       "    )\n",
       "    (1): ResidualBlock(\n",
       "      (conv1): Conv2d(256, 256, kernel_size=(3, 3), stride=(1, 1), padding=(1, 1), bias=False)\n",
       "      (bn1): BatchNorm2d(256, eps=1e-05, momentum=0.1, affine=True, track_running_stats=True)\n",
       "      (relu): ReLU(inplace=True)\n",
       "      (conv2): Conv2d(256, 256, kernel_size=(3, 3), stride=(1, 1), padding=(1, 1), bias=False)\n",
       "      (bn2): BatchNorm2d(256, eps=1e-05, momentum=0.1, affine=True, track_running_stats=True)\n",
       "      (downsample): Identity()\n",
       "    )\n",
       "  )\n",
       "  (layer3): Sequential(\n",
       "    (0): ResidualBlock(\n",
       "      (conv1): Conv2d(256, 512, kernel_size=(3, 3), stride=(2, 2), padding=(1, 1), bias=False)\n",
       "      (bn1): BatchNorm2d(512, eps=1e-05, momentum=0.1, affine=True, track_running_stats=True)\n",
       "      (relu): ReLU(inplace=True)\n",
       "      (conv2): Conv2d(512, 512, kernel_size=(3, 3), stride=(1, 1), padding=(1, 1), bias=False)\n",
       "      (bn2): BatchNorm2d(512, eps=1e-05, momentum=0.1, affine=True, track_running_stats=True)\n",
       "      (downsample): Sequential(\n",
       "        (0): Conv2d(256, 512, kernel_size=(1, 1), stride=(2, 2), bias=False)\n",
       "        (1): BatchNorm2d(512, eps=1e-05, momentum=0.1, affine=True, track_running_stats=True)\n",
       "      )\n",
       "    )\n",
       "    (1): ResidualBlock(\n",
       "      (conv1): Conv2d(512, 512, kernel_size=(3, 3), stride=(1, 1), padding=(1, 1), bias=False)\n",
       "      (bn1): BatchNorm2d(512, eps=1e-05, momentum=0.1, affine=True, track_running_stats=True)\n",
       "      (relu): ReLU(inplace=True)\n",
       "      (conv2): Conv2d(512, 512, kernel_size=(3, 3), stride=(1, 1), padding=(1, 1), bias=False)\n",
       "      (bn2): BatchNorm2d(512, eps=1e-05, momentum=0.1, affine=True, track_running_stats=True)\n",
       "      (downsample): Identity()\n",
       "    )\n",
       "  )\n",
       "  (avgpool): AdaptiveAvgPool2d(output_size=(1, 1))\n",
       "  (fc): Linear(in_features=512, out_features=10, bias=True)\n",
       ")"
      ]
     },
     "execution_count": 63,
     "metadata": {},
     "output_type": "execute_result"
    }
   ],
   "source": [
    "# Testing the model\n",
    "test_model = ResNet9()\n",
    "PATH = './fold1.pth'\n",
    "test_model = torch.load(PATH)\n",
    "test_model.to(device)"
   ]
  },
  {
   "cell_type": "code",
   "execution_count": 64,
   "id": "d96724dc",
   "metadata": {
    "scrolled": true
   },
   "outputs": [
    {
     "data": {
      "text/plain": [
       "tensor(0.5759, device='cuda:0')"
      ]
     },
     "execution_count": 64,
     "metadata": {},
     "output_type": "execute_result"
    }
   ],
   "source": [
    "# Evaluating Test Data\n",
    "preds = []\n",
    "labels = []\n",
    "preds, labels = evaluate(test_model, test_dataloader)\n",
    "\n",
    "# Accuracy\n",
    "accuracy = get_accuracy(preds, labels)\n",
    "accuracy"
   ]
  },
  {
   "cell_type": "code",
   "execution_count": 47,
   "id": "bdeec980",
   "metadata": {
    "scrolled": true
   },
   "outputs": [
    {
     "name": "stdout",
     "output_type": "stream",
     "text": [
      "158\n",
      "tensor([0, 0, 0, 0, 0, 0, 0, 0, 0, 0, 0, 0, 0, 0, 0, 0, 0, 0, 0, 2, 2, 2, 0, 2,\n",
      "        0, 0, 1, 1, 0, 0, 0, 0, 0, 0, 2, 0, 2, 2, 0, 0, 0, 1, 0, 2, 0, 0, 0, 2,\n",
      "        0, 0, 0, 0, 0, 0, 1, 0, 1, 1, 0, 0, 0, 0, 0, 2, 0, 0, 0, 1, 1, 1, 1, 1,\n",
      "        1, 1, 1, 1, 0, 1, 0, 0, 1, 0, 2, 0, 0, 0, 1, 0, 1, 1, 1, 2, 2, 2, 2, 2,\n",
      "        1, 0, 0, 0, 0, 0, 0, 2, 2, 0, 2, 2, 2, 1, 1, 0, 0, 1, 2, 0, 0, 2, 0, 0,\n",
      "        0, 0, 2, 2, 0, 2, 0, 1, 2, 2, 1, 2, 0, 0, 0, 0, 0, 0, 0, 2, 0, 0, 2, 1,\n",
      "        0, 0, 2, 1, 0, 0, 2, 0, 2, 0, 2, 2, 2, 2])\n",
      "----\n",
      "tensor([0, 0, 0, 0, 0, 0, 0, 0, 0, 0, 0, 0, 0, 0, 0, 0, 0, 0, 0, 0, 0, 0, 0, 0,\n",
      "        0, 0, 0, 0, 0, 0, 0, 0, 0, 0, 0, 0, 0, 0, 0, 0, 0, 0, 0, 0, 0, 0, 0, 0,\n",
      "        0, 0, 0, 0, 0, 0, 1, 1, 1, 1, 1, 1, 1, 1, 1, 1, 1, 1, 1, 1, 1, 1, 1, 1,\n",
      "        1, 1, 1, 1, 1, 1, 1, 1, 1, 1, 1, 1, 1, 1, 1, 1, 1, 1, 1, 1, 1, 1, 1, 1,\n",
      "        1, 1, 1, 1, 1, 1, 1, 1, 1, 1, 2, 2, 2, 2, 2, 2, 2, 2, 2, 2, 2, 2, 2, 2,\n",
      "        2, 2, 2, 2, 2, 2, 2, 2, 2, 2, 2, 2, 2, 2, 2, 2, 2, 2, 2, 2, 2, 2, 2, 2,\n",
      "        2, 2, 2, 2, 2, 2, 2, 2, 2, 2, 2, 2, 2, 2])\n"
     ]
    }
   ],
   "source": [
    "print(len(preds))\n",
    "print(preds)\n",
    "print(\"----\")\n",
    "print(labels)"
   ]
  },
  {
   "cell_type": "code",
   "execution_count": 68,
   "id": "8482ef9d",
   "metadata": {},
   "outputs": [
    {
     "name": "stdout",
     "output_type": "stream",
     "text": [
      "MulticlassF1Score()\n"
     ]
    },
    {
     "ename": "RuntimeError",
     "evalue": "Encountered different devices in metric calculation (see stacktrace for details). This could be due to the metric class not being on the same device as input. Instead of `metric=MulticlassF1Score(...)` try to do `metric=MulticlassF1Score(...).to(device)` where device corresponds to the device of the input.",
     "output_type": "error",
     "traceback": [
      "\u001b[1;31m---------------------------------------------------------------------------\u001b[0m",
      "\u001b[1;31mRuntimeError\u001b[0m                              Traceback (most recent call last)",
      "File \u001b[1;32m~\\anaconda3\\envs\\gpu2\\lib\\site-packages\\torchmetrics\\metric.py:389\u001b[0m, in \u001b[0;36mMetric._wrap_update.<locals>.wrapped_func\u001b[1;34m(*args, **kwargs)\u001b[0m\n\u001b[0;32m    388\u001b[0m \u001b[38;5;28;01mtry\u001b[39;00m:\n\u001b[1;32m--> 389\u001b[0m     \u001b[43mupdate\u001b[49m\u001b[43m(\u001b[49m\u001b[38;5;241;43m*\u001b[39;49m\u001b[43margs\u001b[49m\u001b[43m,\u001b[49m\u001b[43m \u001b[49m\u001b[38;5;241;43m*\u001b[39;49m\u001b[38;5;241;43m*\u001b[39;49m\u001b[43mkwargs\u001b[49m\u001b[43m)\u001b[49m\n\u001b[0;32m    390\u001b[0m \u001b[38;5;28;01mexcept\u001b[39;00m \u001b[38;5;167;01mRuntimeError\u001b[39;00m \u001b[38;5;28;01mas\u001b[39;00m err:\n",
      "File \u001b[1;32m~\\anaconda3\\envs\\gpu2\\lib\\site-packages\\torchmetrics\\classification\\stat_scores.py:322\u001b[0m, in \u001b[0;36mMulticlassStatScores.update\u001b[1;34m(self, preds, target)\u001b[0m\n\u001b[0;32m    319\u001b[0m tp, fp, tn, fn \u001b[38;5;241m=\u001b[39m _multiclass_stat_scores_update(\n\u001b[0;32m    320\u001b[0m     preds, target, \u001b[38;5;28mself\u001b[39m\u001b[38;5;241m.\u001b[39mnum_classes, \u001b[38;5;28mself\u001b[39m\u001b[38;5;241m.\u001b[39mtop_k, \u001b[38;5;28mself\u001b[39m\u001b[38;5;241m.\u001b[39maverage, \u001b[38;5;28mself\u001b[39m\u001b[38;5;241m.\u001b[39mmultidim_average, \u001b[38;5;28mself\u001b[39m\u001b[38;5;241m.\u001b[39mignore_index\n\u001b[0;32m    321\u001b[0m )\n\u001b[1;32m--> 322\u001b[0m \u001b[38;5;28;43mself\u001b[39;49m\u001b[38;5;241;43m.\u001b[39;49m\u001b[43m_update_state\u001b[49m\u001b[43m(\u001b[49m\u001b[43mtp\u001b[49m\u001b[43m,\u001b[49m\u001b[43m \u001b[49m\u001b[43mfp\u001b[49m\u001b[43m,\u001b[49m\u001b[43m \u001b[49m\u001b[43mtn\u001b[49m\u001b[43m,\u001b[49m\u001b[43m \u001b[49m\u001b[43mfn\u001b[49m\u001b[43m)\u001b[49m\n",
      "File \u001b[1;32m~\\anaconda3\\envs\\gpu2\\lib\\site-packages\\torchmetrics\\classification\\stat_scores.py:70\u001b[0m, in \u001b[0;36m_AbstractStatScores._update_state\u001b[1;34m(self, tp, fp, tn, fn)\u001b[0m\n\u001b[0;32m     69\u001b[0m \u001b[38;5;28;01melse\u001b[39;00m:\n\u001b[1;32m---> 70\u001b[0m     \u001b[38;5;28mself\u001b[39m\u001b[38;5;241m.\u001b[39mtp \u001b[38;5;241m+\u001b[39m\u001b[38;5;241m=\u001b[39m tp\n\u001b[0;32m     71\u001b[0m     \u001b[38;5;28mself\u001b[39m\u001b[38;5;241m.\u001b[39mfp \u001b[38;5;241m+\u001b[39m\u001b[38;5;241m=\u001b[39m fp\n",
      "\u001b[1;31mRuntimeError\u001b[0m: Expected all tensors to be on the same device, but found at least two devices, cuda:0 and cpu!",
      "\nThe above exception was the direct cause of the following exception:\n",
      "\u001b[1;31mRuntimeError\u001b[0m                              Traceback (most recent call last)",
      "Input \u001b[1;32mIn [68]\u001b[0m, in \u001b[0;36m<cell line: 2>\u001b[1;34m()\u001b[0m\n\u001b[0;32m      1\u001b[0m \u001b[38;5;66;03m# F-1 SCORE\u001b[39;00m\n\u001b[1;32m----> 2\u001b[0m f1_score \u001b[38;5;241m=\u001b[39m \u001b[43mget_f1score\u001b[49m\u001b[43m(\u001b[49m\u001b[43mpreds\u001b[49m\u001b[43m,\u001b[49m\u001b[43m \u001b[49m\u001b[43mlabels\u001b[49m\u001b[43m)\u001b[49m\n\u001b[0;32m      3\u001b[0m f1_score\n",
      "Input \u001b[1;32mIn [17]\u001b[0m, in \u001b[0;36mget_f1score\u001b[1;34m(preds, labels)\u001b[0m\n\u001b[0;32m      3\u001b[0m f1_score \u001b[38;5;241m=\u001b[39m F1Score(task\u001b[38;5;241m=\u001b[39m\u001b[38;5;124m\"\u001b[39m\u001b[38;5;124mmulticlass\u001b[39m\u001b[38;5;124m\"\u001b[39m, num_classes\u001b[38;5;241m=\u001b[39mnum_of_classes, average\u001b[38;5;241m=\u001b[39m\u001b[38;5;124m'\u001b[39m\u001b[38;5;124mweighted\u001b[39m\u001b[38;5;124m'\u001b[39m)\n\u001b[0;32m      4\u001b[0m \u001b[38;5;28mprint\u001b[39m(f1_score)\n\u001b[1;32m----> 5\u001b[0m \u001b[38;5;28;01mreturn\u001b[39;00m \u001b[43mf1_score\u001b[49m\u001b[43m(\u001b[49m\u001b[43mpreds\u001b[49m\u001b[43m,\u001b[49m\u001b[43m \u001b[49m\u001b[43mlabels\u001b[49m\u001b[43m)\u001b[49m\n",
      "File \u001b[1;32m~\\anaconda3\\envs\\gpu2\\lib\\site-packages\\torch\\nn\\modules\\module.py:1194\u001b[0m, in \u001b[0;36mModule._call_impl\u001b[1;34m(self, *input, **kwargs)\u001b[0m\n\u001b[0;32m   1190\u001b[0m \u001b[38;5;66;03m# If we don't have any hooks, we want to skip the rest of the logic in\u001b[39;00m\n\u001b[0;32m   1191\u001b[0m \u001b[38;5;66;03m# this function, and just call forward.\u001b[39;00m\n\u001b[0;32m   1192\u001b[0m \u001b[38;5;28;01mif\u001b[39;00m \u001b[38;5;129;01mnot\u001b[39;00m (\u001b[38;5;28mself\u001b[39m\u001b[38;5;241m.\u001b[39m_backward_hooks \u001b[38;5;129;01mor\u001b[39;00m \u001b[38;5;28mself\u001b[39m\u001b[38;5;241m.\u001b[39m_forward_hooks \u001b[38;5;129;01mor\u001b[39;00m \u001b[38;5;28mself\u001b[39m\u001b[38;5;241m.\u001b[39m_forward_pre_hooks \u001b[38;5;129;01mor\u001b[39;00m _global_backward_hooks\n\u001b[0;32m   1193\u001b[0m         \u001b[38;5;129;01mor\u001b[39;00m _global_forward_hooks \u001b[38;5;129;01mor\u001b[39;00m _global_forward_pre_hooks):\n\u001b[1;32m-> 1194\u001b[0m     \u001b[38;5;28;01mreturn\u001b[39;00m \u001b[43mforward_call\u001b[49m\u001b[43m(\u001b[49m\u001b[38;5;241;43m*\u001b[39;49m\u001b[38;5;28;43minput\u001b[39;49m\u001b[43m,\u001b[49m\u001b[43m \u001b[49m\u001b[38;5;241;43m*\u001b[39;49m\u001b[38;5;241;43m*\u001b[39;49m\u001b[43mkwargs\u001b[49m\u001b[43m)\u001b[49m\n\u001b[0;32m   1195\u001b[0m \u001b[38;5;66;03m# Do not call functions when jit is used\u001b[39;00m\n\u001b[0;32m   1196\u001b[0m full_backward_hooks, non_full_backward_hooks \u001b[38;5;241m=\u001b[39m [], []\n",
      "File \u001b[1;32m~\\anaconda3\\envs\\gpu2\\lib\\site-packages\\torchmetrics\\metric.py:235\u001b[0m, in \u001b[0;36mMetric.forward\u001b[1;34m(self, *args, **kwargs)\u001b[0m\n\u001b[0;32m    233\u001b[0m     \u001b[38;5;28mself\u001b[39m\u001b[38;5;241m.\u001b[39m_forward_cache \u001b[38;5;241m=\u001b[39m \u001b[38;5;28mself\u001b[39m\u001b[38;5;241m.\u001b[39m_forward_full_state_update(\u001b[38;5;241m*\u001b[39margs, \u001b[38;5;241m*\u001b[39m\u001b[38;5;241m*\u001b[39mkwargs)\n\u001b[0;32m    234\u001b[0m \u001b[38;5;28;01melse\u001b[39;00m:\n\u001b[1;32m--> 235\u001b[0m     \u001b[38;5;28mself\u001b[39m\u001b[38;5;241m.\u001b[39m_forward_cache \u001b[38;5;241m=\u001b[39m \u001b[38;5;28;43mself\u001b[39;49m\u001b[38;5;241;43m.\u001b[39;49m\u001b[43m_forward_reduce_state_update\u001b[49m\u001b[43m(\u001b[49m\u001b[38;5;241;43m*\u001b[39;49m\u001b[43margs\u001b[49m\u001b[43m,\u001b[49m\u001b[43m \u001b[49m\u001b[38;5;241;43m*\u001b[39;49m\u001b[38;5;241;43m*\u001b[39;49m\u001b[43mkwargs\u001b[49m\u001b[43m)\u001b[49m\n\u001b[0;32m    237\u001b[0m \u001b[38;5;28;01mreturn\u001b[39;00m \u001b[38;5;28mself\u001b[39m\u001b[38;5;241m.\u001b[39m_forward_cache\n",
      "File \u001b[1;32m~\\anaconda3\\envs\\gpu2\\lib\\site-packages\\torchmetrics\\metric.py:301\u001b[0m, in \u001b[0;36mMetric._forward_reduce_state_update\u001b[1;34m(self, *args, **kwargs)\u001b[0m\n\u001b[0;32m    298\u001b[0m \u001b[38;5;28mself\u001b[39m\u001b[38;5;241m.\u001b[39m_enable_grad \u001b[38;5;241m=\u001b[39m \u001b[38;5;28;01mTrue\u001b[39;00m  \u001b[38;5;66;03m# allow grads for batch computation\u001b[39;00m\n\u001b[0;32m    300\u001b[0m \u001b[38;5;66;03m# calculate batch state and compute batch value\u001b[39;00m\n\u001b[1;32m--> 301\u001b[0m \u001b[38;5;28;43mself\u001b[39;49m\u001b[38;5;241;43m.\u001b[39;49m\u001b[43mupdate\u001b[49m\u001b[43m(\u001b[49m\u001b[38;5;241;43m*\u001b[39;49m\u001b[43margs\u001b[49m\u001b[43m,\u001b[49m\u001b[43m \u001b[49m\u001b[38;5;241;43m*\u001b[39;49m\u001b[38;5;241;43m*\u001b[39;49m\u001b[43mkwargs\u001b[49m\u001b[43m)\u001b[49m\n\u001b[0;32m    302\u001b[0m batch_val \u001b[38;5;241m=\u001b[39m \u001b[38;5;28mself\u001b[39m\u001b[38;5;241m.\u001b[39mcompute()\n\u001b[0;32m    304\u001b[0m \u001b[38;5;66;03m# reduce batch and global state\u001b[39;00m\n",
      "File \u001b[1;32m~\\anaconda3\\envs\\gpu2\\lib\\site-packages\\torchmetrics\\metric.py:392\u001b[0m, in \u001b[0;36mMetric._wrap_update.<locals>.wrapped_func\u001b[1;34m(*args, **kwargs)\u001b[0m\n\u001b[0;32m    390\u001b[0m     \u001b[38;5;28;01mexcept\u001b[39;00m \u001b[38;5;167;01mRuntimeError\u001b[39;00m \u001b[38;5;28;01mas\u001b[39;00m err:\n\u001b[0;32m    391\u001b[0m         \u001b[38;5;28;01mif\u001b[39;00m \u001b[38;5;124m\"\u001b[39m\u001b[38;5;124mExpected all tensors to be on\u001b[39m\u001b[38;5;124m\"\u001b[39m \u001b[38;5;129;01min\u001b[39;00m \u001b[38;5;28mstr\u001b[39m(err):\n\u001b[1;32m--> 392\u001b[0m             \u001b[38;5;28;01mraise\u001b[39;00m \u001b[38;5;167;01mRuntimeError\u001b[39;00m(\n\u001b[0;32m    393\u001b[0m                 \u001b[38;5;124m\"\u001b[39m\u001b[38;5;124mEncountered different devices in metric calculation (see stacktrace for details).\u001b[39m\u001b[38;5;124m\"\u001b[39m\n\u001b[0;32m    394\u001b[0m                 \u001b[38;5;124m\"\u001b[39m\u001b[38;5;124m This could be due to the metric class not being on the same device as input.\u001b[39m\u001b[38;5;124m\"\u001b[39m\n\u001b[0;32m    395\u001b[0m                 \u001b[38;5;124mf\u001b[39m\u001b[38;5;124m\"\u001b[39m\u001b[38;5;124m Instead of `metric=\u001b[39m\u001b[38;5;132;01m{\u001b[39;00m\u001b[38;5;28mself\u001b[39m\u001b[38;5;241m.\u001b[39m\u001b[38;5;18m__class__\u001b[39m\u001b[38;5;241m.\u001b[39m\u001b[38;5;18m__name__\u001b[39m\u001b[38;5;132;01m}\u001b[39;00m\u001b[38;5;124m(...)` try to do\u001b[39m\u001b[38;5;124m\"\u001b[39m\n\u001b[0;32m    396\u001b[0m                 \u001b[38;5;124mf\u001b[39m\u001b[38;5;124m\"\u001b[39m\u001b[38;5;124m `metric=\u001b[39m\u001b[38;5;132;01m{\u001b[39;00m\u001b[38;5;28mself\u001b[39m\u001b[38;5;241m.\u001b[39m\u001b[38;5;18m__class__\u001b[39m\u001b[38;5;241m.\u001b[39m\u001b[38;5;18m__name__\u001b[39m\u001b[38;5;132;01m}\u001b[39;00m\u001b[38;5;124m(...).to(device)` where\u001b[39m\u001b[38;5;124m\"\u001b[39m\n\u001b[0;32m    397\u001b[0m                 \u001b[38;5;124m\"\u001b[39m\u001b[38;5;124m device corresponds to the device of the input.\u001b[39m\u001b[38;5;124m\"\u001b[39m\n\u001b[0;32m    398\u001b[0m             ) \u001b[38;5;28;01mfrom\u001b[39;00m \u001b[38;5;21;01merr\u001b[39;00m\n\u001b[0;32m    399\u001b[0m         \u001b[38;5;28;01mraise\u001b[39;00m err\n\u001b[0;32m    401\u001b[0m \u001b[38;5;28;01mif\u001b[39;00m \u001b[38;5;28mself\u001b[39m\u001b[38;5;241m.\u001b[39mcompute_on_cpu:\n",
      "\u001b[1;31mRuntimeError\u001b[0m: Encountered different devices in metric calculation (see stacktrace for details). This could be due to the metric class not being on the same device as input. Instead of `metric=MulticlassF1Score(...)` try to do `metric=MulticlassF1Score(...).to(device)` where device corresponds to the device of the input."
     ]
    }
   ],
   "source": [
    "# F-1 SCORE\n",
    "f1_score = get_f1score(preds, labels)\n",
    "f1_score"
   ]
  },
  {
   "cell_type": "code",
   "execution_count": 66,
   "id": "6b77cdf5",
   "metadata": {
    "scrolled": true
   },
   "outputs": [
    {
     "data": {
      "image/png": "[encoded data removed]",
      "text/plain": [
       "<Figure size 864x504 with 2 Axes>"
      ]
     },
     "metadata": {
      "needs_background": "light"
     },
     "output_type": "display_data"
    }
   ],
   "source": [
    "confusion_matrix = np.zeros((num_of_classes, num_of_classes))\n",
    "with torch.no_grad():\n",
    "    for i, (inputs, labels) in enumerate(test_dataloader):\n",
    "        inputs = inputs.to(device)\n",
    "        labels = labels.to(device)\n",
    "        outputs = test_model(inputs)\n",
    "        _, preds = torch.max(outputs, 1)\n",
    "        for t, p in zip(labels.view(-1), preds.view(-1)):\n",
    "                confusion_matrix[t.long(), p.long()] += 1\n",
    "\n",
    "matplot.figure(figsize=(12,7))\n",
    "\n",
    "df_cm = pd.DataFrame((confusion_matrix/(np.sum(confusion_matrix, axis=1))), index=classes, columns=classes)\n",
    "heatmap = sn.heatmap(df_cm, annot=True)"
   ]
  }
 ],
 "metadata": {
  "kernelspec": {
   "display_name": "Python 3 (ipykernel)",
   "language": "python",
   "name": "python3"
  },
  "language_info": {
   "codemirror_mode": {
    "name": "ipython",
    "version": 3
   },
   "file_extension": ".py",
   "mimetype": "text/x-python",
   "name": "python",
   "nbconvert_exporter": "python",
   "pygments_lexer": "ipython3",
   "version": "3.8.8"
  }
 },
 "nbformat": 4,
 "nbformat_minor": 5
}
